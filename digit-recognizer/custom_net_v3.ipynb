{
 "cells": [
  {
   "cell_type": "code",
   "execution_count": 1,
   "metadata": {},
   "outputs": [],
   "source": [
    "import torch\n",
    "from torch import nn, optim\n",
    "from torch.nn import Module as M\n",
    "from torch.utils.data import Dataset as D\n",
    "# import torchvision\n",
    "from torchvision import datasets # for mnist\n",
    "import torchvision.transforms as transforms\n",
    "\n",
    "import matplotlib.pyplot as plt\n",
    "import matplotlib.cm as cm\n",
    "import pandas as pd\n",
    "import os\n",
    "import numpy as np\n",
    "import random\n",
    "import math\n",
    "from tqdm import tqdm\n",
    "\n",
    "import albumentations\n",
    "#from albumentations.pytorch import ToTensorV2 as AT\n",
    "\n",
    "import cv2\n",
    "\n",
    "#from sklearn.metrics import roc_auc_score\n",
    "from sklearn.model_selection import KFold\n",
    "from sklearn.model_selection import StratifiedKFold"
   ]
  },
  {
   "cell_type": "code",
   "execution_count": 2,
   "metadata": {},
   "outputs": [],
   "source": [
    "IMG_SIZE = 28\n",
    "epoch_count = 5\n",
    "#patience = 0\n",
    "fold_count = 5\n",
    "SEED = 42\n",
    "\n",
    "batch_size = 64\n",
    "\n",
    "# Скорость обучения\n",
    "#LR = 4e-4\n",
    "LR = 5e-5\n",
    "\n",
    "# Параметры оптимизатора Adam\n",
    "#beta1 = 0.5\n",
    "beta1 = 0.9\n",
    "beta2 = 0.999\n",
    "\n",
    "base_patch = './data'\n",
    "train_file = os.path.join(base_patch, \"train.csv\")\n",
    "test_file = os.path.join(base_patch, \"test.csv\")\n",
    "submission_file = os.path.join(base_patch, \"sample_submission.csv\")"
   ]
  },
  {
   "cell_type": "code",
   "execution_count": 3,
   "metadata": {},
   "outputs": [],
   "source": [
    "device = torch.device('cuda:0' if torch.cuda.is_available() else 'cpu')\n",
    "#device = torch.device('cpu')"
   ]
  },
  {
   "cell_type": "code",
   "execution_count": 4,
   "metadata": {},
   "outputs": [
    {
     "data": {
      "text/html": [
       "<div>\n",
       "<style scoped>\n",
       "    .dataframe tbody tr th:only-of-type {\n",
       "        vertical-align: middle;\n",
       "    }\n",
       "\n",
       "    .dataframe tbody tr th {\n",
       "        vertical-align: top;\n",
       "    }\n",
       "\n",
       "    .dataframe thead th {\n",
       "        text-align: right;\n",
       "    }\n",
       "</style>\n",
       "<table border=\"1\" class=\"dataframe\">\n",
       "  <thead>\n",
       "    <tr style=\"text-align: right;\">\n",
       "      <th></th>\n",
       "      <th>ImageId</th>\n",
       "      <th>Label</th>\n",
       "    </tr>\n",
       "  </thead>\n",
       "  <tbody>\n",
       "    <tr>\n",
       "      <th>0</th>\n",
       "      <td>1</td>\n",
       "      <td>0</td>\n",
       "    </tr>\n",
       "    <tr>\n",
       "      <th>1</th>\n",
       "      <td>2</td>\n",
       "      <td>0</td>\n",
       "    </tr>\n",
       "    <tr>\n",
       "      <th>2</th>\n",
       "      <td>3</td>\n",
       "      <td>0</td>\n",
       "    </tr>\n",
       "    <tr>\n",
       "      <th>3</th>\n",
       "      <td>4</td>\n",
       "      <td>0</td>\n",
       "    </tr>\n",
       "    <tr>\n",
       "      <th>4</th>\n",
       "      <td>5</td>\n",
       "      <td>0</td>\n",
       "    </tr>\n",
       "  </tbody>\n",
       "</table>\n",
       "</div>"
      ],
      "text/plain": [
       "   ImageId  Label\n",
       "0        1      0\n",
       "1        2      0\n",
       "2        3      0\n",
       "3        4      0\n",
       "4        5      0"
      ]
     },
     "execution_count": 4,
     "metadata": {},
     "output_type": "execute_result"
    }
   ],
   "source": [
    "submission_df = pd.read_csv(submission_file)\n",
    "submission_df.iloc[:, 1:] = 0\n",
    "\n",
    "submission_df.head()\n"
   ]
  },
  {
   "cell_type": "code",
   "execution_count": 5,
   "metadata": {},
   "outputs": [],
   "source": [
    "class digitModel(M):\n",
    "    def __init__(self):\n",
    "        super(digitModel, self).__init__()\n",
    "        # Формeлf расчета размера выходного слоя после Conv2d\n",
    "        # c_out = ((c_in+2pading-kernel_size)/strides)+1\n",
    "        # Convolution 1\n",
    "        self.cnn1 = nn.Conv2d(in_channels=1, out_channels=16, kernel_size=3, stride=1, padding=1) # 28\n",
    "        self.bn1 = nn.BatchNorm2d(16)\n",
    "        self.relu1 = nn.ReLU()\n",
    "        self.maxpool1 = nn.MaxPool2d(kernel_size=2)  # 14\n",
    "        # Convolution 2\n",
    "        self.cnn2 = nn.Conv2d(in_channels=16, out_channels=32, kernel_size=3, stride=1, padding=0) # 12\n",
    "        self.bn2 = nn.BatchNorm2d(32)\n",
    "        self.relu2 = nn.ReLU()\n",
    "        self.maxpool2 = nn.MaxPool2d(kernel_size=2)  # 6\n",
    "        # Convolution 3\n",
    "        self.cnn3 = nn.Conv2d(in_channels=32, out_channels=64, kernel_size=3, stride=1, padding=0) # 4\n",
    "        self.bn3 = nn.BatchNorm2d(64)\n",
    "        self.relu3 = nn.ReLU()\n",
    "        self.maxpool3 = nn.MaxPool2d(kernel_size=2)  # 2\n",
    "        # Convolution 4\n",
    "        self.cnn4 = nn.Conv2d(in_channels=64, out_channels=128, kernel_size=3, stride=1, padding=1) # 2\n",
    "        self.bn4 = nn.BatchNorm2d(128)\n",
    "        self.relu4 = nn.ReLU()\n",
    "        self.maxpool4 = nn.MaxPool2d(kernel_size=2)  # 1\n",
    "        # Fully connected 1\n",
    "        self.fc1 = nn.Linear(128 * 1 * 1, 10)\n",
    "\n",
    "    def forward(self, x):\n",
    "        # Convolution 1\n",
    "        x = self.cnn1(x)\n",
    "        x = self.bn1(x)\n",
    "        x = self.relu1(x)\n",
    "        x = self.maxpool1(x)\n",
    "        # Convolution 2\n",
    "        x = self.cnn2(x)\n",
    "        x = self.bn2(x)\n",
    "        x = self.relu2(x)\n",
    "        x = self.maxpool2(x)\n",
    "        # Convolution 3\n",
    "        x = self.cnn3(x)\n",
    "        x = self.bn3(x)\n",
    "        x = self.relu3(x)\n",
    "        x = self.maxpool3(x)\n",
    "        # Convolution 4\n",
    "        x = self.cnn4(x)\n",
    "        x = self.bn4(x)\n",
    "        x = self.relu4(x)\n",
    "        x = self.maxpool4(x)\n",
    "        # подготовка для линейного слоя\n",
    "        x = x.view(x.size(0), -1)\n",
    "        # Linear function (readout)\n",
    "        x = self.fc1(x)\n",
    "        return x"
   ]
  },
  {
   "cell_type": "code",
   "execution_count": 6,
   "metadata": {},
   "outputs": [],
   "source": [
    "class digitDataset(D):\n",
    "    def __init__(self, df, transform=None): #, labels=None\n",
    "        if 'label' in df:\n",
    "            self.labels = df['label'].values\n",
    "            self.images = df.drop(axis=1, columns='label')\n",
    "        else:\n",
    "            self.labels = np.zeros(len(df))\n",
    "            self.images = df\n",
    "        \n",
    "        # Нормализуем\n",
    "        self.images = np.multiply(np.array(self.images, dtype=np.float32),1/255)\n",
    "        self.images = self.images.reshape(-1,1,28,28)\n",
    "        self.images = torch.from_numpy(self.images)\n",
    "\n",
    "        self.transform = transform\n",
    "            \n",
    "    def __len__(self):\n",
    "        return len(self.images)\n",
    "        #return len(self.labels)\n",
    "    \n",
    "    def __getitem__(self, idx):\n",
    "        label = self.labels[idx]\n",
    "        image = self.images[idx]\n",
    "        \n",
    "        #применяем аугментации\n",
    "        if self.transform:\n",
    "            image = self.transform(image)\n",
    "            \n",
    "        return image, label\n",
    "\n"
   ]
  },
  {
   "cell_type": "code",
   "execution_count": 7,
   "metadata": {},
   "outputs": [],
   "source": [
    "def imshow(imgs, lbls, epoh='', batch=''):\n",
    "    fig = plt.figure(figsize=(10, 11))\n",
    "    for j in range(batch_size):#len(data)):\n",
    "        n = math.sqrt(batch_size)\n",
    "        ax = fig.add_subplot(n, n, j+1)\n",
    "        #i = random.randrange(0,batch_size)\n",
    "        ax.set_title(str(lbls[j].numpy()))\n",
    "        ax.imshow(imgs[j].reshape(28,28), cmap = cm.binary)\n",
    "        plt.xticks(np.array([]))\n",
    "        plt.yticks(np.array([]))\n",
    "    plt.show()\n",
    "    plt.close()"
   ]
  },
  {
   "cell_type": "code",
   "execution_count": 8,
   "metadata": {},
   "outputs": [],
   "source": [
    "model = digitModel().to(device)\n",
    "#optimiser = optim.SGD(model.parameters(), lr=LR,)\n",
    "optimizer = optim.Adam(model.parameters(), lr=LR, betas=(beta1, beta2))\n",
    "criterion = nn.CrossEntropyLoss()"
   ]
  },
  {
   "cell_type": "code",
   "execution_count": 9,
   "metadata": {},
   "outputs": [],
   "source": [
    "def train(model, train_loader, criterion, optimizer, show=False):\n",
    "    model.train()\n",
    "    tr_loss = 0\n",
    "    \n",
    "    for step, batch in enumerate(tqdm(train_loader, ncols=80, position=0)):\n",
    "        images = batch[0]\n",
    "        labels = batch[1]\n",
    "        \n",
    "        if show:\n",
    "            imshow(images, labels);\n",
    "        \n",
    "        images = images.to(device)\n",
    "        labels = labels.to(device)\n",
    "        \n",
    "        outputs = model(images)\n",
    "        loss = criterion(outputs, labels.squeeze(-1))                \n",
    "        loss.backward()\n",
    "\n",
    "        tr_loss += loss.item()\n",
    "\n",
    "        optimizer.step()\n",
    "        optimizer.zero_grad()\n",
    "        \n",
    "        #print(loss.item())\n",
    "    \n",
    "    return tr_loss / len(train_loader)"
   ]
  },
  {
   "cell_type": "code",
   "execution_count": 10,
   "metadata": {},
   "outputs": [],
   "source": [
    "def valid(model, valid_loader, criterion, optimizer):\n",
    "    model.eval()\n",
    "    val_loss = 0\n",
    "    #val_preds = None\n",
    "    #val_labels = None\n",
    "    correct = 0\n",
    "    count = 0\n",
    "\n",
    "    for step, batch in enumerate(tqdm(valid_loader, ncols=80, position=0)):\n",
    "\n",
    "            images = batch[0]\n",
    "            labels = batch[1]\n",
    "\n",
    "            count += len(images)\n",
    "\n",
    "            images = images.to(device)\n",
    "            labels = labels.to(device)\n",
    "\n",
    "            with torch.no_grad():\n",
    "                outputs = model(images)\n",
    "\n",
    "                loss = criterion(outputs, labels)\n",
    "                val_loss += loss.item()\n",
    "\n",
    "                _, predicted = torch.max(outputs.data, 1)\n",
    "                correct += (predicted == labels).sum().item()\n",
    "                    \n",
    "    return val_loss / len(train_loader), correct / count"
   ]
  },
  {
   "cell_type": "code",
   "execution_count": 11,
   "metadata": {},
   "outputs": [],
   "source": [
    "def test(model, test_loader, criterion, optimizer):\n",
    "\n",
    "    test_preds = None\n",
    "    \n",
    "    model.eval()\n",
    "    test_preds = None\n",
    "    \n",
    "    for step, batch in enumerate(tqdm(test_loader, ncols=80, position=0)):\n",
    "\n",
    "        images = batch[0]\n",
    "        images = images.to(device) #, dtype=torch.float)\n",
    "\n",
    "        with torch.no_grad():\n",
    "            outputs = model(images)\n",
    "\n",
    "            _, predicted = torch.max(outputs.data.cpu(), 1)\n",
    "            if test_preds is None:\n",
    "                test_preds = predicted\n",
    "            else:\n",
    "                test_preds = torch.cat((test_preds, predicted), dim=0)\n",
    "    return test_preds\n"
   ]
  },
  {
   "cell_type": "code",
   "execution_count": 12,
   "metadata": {},
   "outputs": [],
   "source": [
    "train_transform = transforms.Compose([\n",
    "    transforms.ToPILImage(), # преобрахование из numpi.array в PILImage\n",
    "    #transforms.RandomResizedCrop(32, scale=(0.8, 1.0)),\n",
    "    ##transforms.Resize(32, interpolation=2), # увеличиваем для RandomRotation\n",
    "    #transforms.RandomRotation(degrees=(-10, 10), expand=True, fill=(0,)),\n",
    "    #transforms.Resize(IMG_SIZE, interpolation=2), #\n",
    "    ##transforms.Normalize(mean=[0.456],\n",
    "    ##                     std=[0.224]),\n",
    "    transforms.ToTensor(),\n",
    "    ])\n",
    "\n",
    "test_transform = transforms.Compose([\n",
    "    transforms.ToPILImage(), # преобрахование из numpi.array в PILImage\n",
    "    #transforms.Normalize(mean=[0.456],\n",
    "    #                     std=[0.224]),\n",
    "    transforms.ToTensor(),\n",
    "    ])\n"
   ]
  },
  {
   "cell_type": "code",
   "execution_count": 13,
   "metadata": {},
   "outputs": [
    {
     "name": "stderr",
     "output_type": "stream",
     "text": [
      "100%|█████████████████████████████████████████| 525/525 [00:13<00:00, 38.24it/s]\n",
      "100%|█████████████████████████████████████████| 132/132 [00:02<00:00, 62.82it/s]\n",
      "  1%|▎                                          | 4/525 [00:00<00:14, 36.72it/s]"
     ]
    },
    {
     "name": "stdout",
     "output_type": "stream",
     "text": [
      "1 - 1 0.7763942675079618 0.06931017838773273 0.9483333333333334\n"
     ]
    },
    {
     "name": "stderr",
     "output_type": "stream",
     "text": [
      "100%|█████████████████████████████████████████| 525/525 [00:13<00:00, 38.64it/s]\n",
      "100%|█████████████████████████████████████████| 132/132 [00:01<00:00, 66.72it/s]\n",
      "  1%|▎                                          | 4/525 [00:00<00:13, 39.02it/s]"
     ]
    },
    {
     "name": "stdout",
     "output_type": "stream",
     "text": [
      "1 - 2 0.20287797736979665 0.03802202844903583 0.9679761904761904\n"
     ]
    },
    {
     "name": "stderr",
     "output_type": "stream",
     "text": [
      "100%|█████████████████████████████████████████| 525/525 [00:13<00:00, 38.84it/s]\n",
      "100%|█████████████████████████████████████████| 132/132 [00:02<00:00, 66.00it/s]\n",
      "  1%|▎                                          | 4/525 [00:00<00:13, 39.50it/s]"
     ]
    },
    {
     "name": "stdout",
     "output_type": "stream",
     "text": [
      "1 - 3 0.1252903281507038 0.02702983381492751 0.9754761904761905\n"
     ]
    },
    {
     "name": "stderr",
     "output_type": "stream",
     "text": [
      "100%|█████████████████████████████████████████| 525/525 [00:13<00:00, 38.84it/s]\n",
      "100%|█████████████████████████████████████████| 132/132 [00:01<00:00, 66.69it/s]\n",
      "  1%|▎                                          | 4/525 [00:00<00:13, 37.68it/s]"
     ]
    },
    {
     "name": "stdout",
     "output_type": "stream",
     "text": [
      "1 - 4 0.09094535440206528 0.020757910651820047 0.9809523809523809\n"
     ]
    },
    {
     "name": "stderr",
     "output_type": "stream",
     "text": [
      "100%|█████████████████████████████████████████| 525/525 [00:13<00:00, 39.30it/s]\n",
      "100%|█████████████████████████████████████████| 132/132 [00:01<00:00, 67.06it/s]\n"
     ]
    },
    {
     "name": "stdout",
     "output_type": "stream",
     "text": [
      "1 - 5 0.07119311453331084 0.017356617741641545 0.9840476190476191\n"
     ]
    },
    {
     "name": "stderr",
     "output_type": "stream",
     "text": [
      "100%|█████████████████████████████████████████| 525/525 [00:13<00:00, 38.80it/s]\n",
      "100%|█████████████████████████████████████████| 132/132 [00:02<00:00, 65.54it/s]\n",
      "  1%|▎                                          | 4/525 [00:00<00:13, 37.77it/s]"
     ]
    },
    {
     "name": "stdout",
     "output_type": "stream",
     "text": [
      "2 - 1 0.06048525212776093 0.012596100774549302 0.988452380952381\n"
     ]
    },
    {
     "name": "stderr",
     "output_type": "stream",
     "text": [
      "100%|█████████████████████████████████████████| 525/525 [00:13<00:00, 38.83it/s]\n",
      "100%|█████████████████████████████████████████| 132/132 [00:01<00:00, 66.37it/s]\n",
      "  1%|▎                                          | 4/525 [00:00<00:13, 39.35it/s]"
     ]
    },
    {
     "name": "stdout",
     "output_type": "stream",
     "text": [
      "2 - 2 0.049007614066913015 0.011315189380021322 0.9902380952380953\n"
     ]
    },
    {
     "name": "stderr",
     "output_type": "stream",
     "text": [
      "100%|█████████████████████████████████████████| 525/525 [00:13<00:00, 39.08it/s]\n",
      "100%|█████████████████████████████████████████| 132/132 [00:02<00:00, 65.59it/s]\n",
      "  1%|▎                                          | 4/525 [00:00<00:13, 39.45it/s]"
     ]
    },
    {
     "name": "stdout",
     "output_type": "stream",
     "text": [
      "2 - 3 0.04107747555488632 0.010348450112200919 0.9898809523809524\n"
     ]
    },
    {
     "name": "stderr",
     "output_type": "stream",
     "text": [
      "100%|█████████████████████████████████████████| 525/525 [00:13<00:00, 38.49it/s]\n",
      "100%|█████████████████████████████████████████| 132/132 [00:02<00:00, 65.68it/s]\n",
      "  1%|▎                                          | 4/525 [00:00<00:13, 38.57it/s]"
     ]
    },
    {
     "name": "stdout",
     "output_type": "stream",
     "text": [
      "2 - 4 0.034900024143003285 0.009736406072264626 0.9913095238095239\n"
     ]
    },
    {
     "name": "stderr",
     "output_type": "stream",
     "text": [
      "100%|█████████████████████████████████████████| 525/525 [00:13<00:00, 38.99it/s]\n",
      "100%|█████████████████████████████████████████| 132/132 [00:02<00:00, 65.36it/s]\n"
     ]
    },
    {
     "name": "stdout",
     "output_type": "stream",
     "text": [
      "2 - 5 0.029071713561813036 0.009017274351347061 0.9911904761904762\n"
     ]
    },
    {
     "name": "stderr",
     "output_type": "stream",
     "text": [
      "100%|█████████████████████████████████████████| 525/525 [00:13<00:00, 39.39it/s]\n",
      "100%|█████████████████████████████████████████| 132/132 [00:01<00:00, 66.50it/s]\n",
      "  1%|▎                                          | 4/525 [00:00<00:13, 39.59it/s]"
     ]
    },
    {
     "name": "stdout",
     "output_type": "stream",
     "text": [
      "3 - 1 0.028629916104532423 0.006041328172598566 0.9942857142857143\n"
     ]
    },
    {
     "name": "stderr",
     "output_type": "stream",
     "text": [
      "100%|█████████████████████████████████████████| 525/525 [00:13<00:00, 39.06it/s]\n",
      "100%|█████████████████████████████████████████| 132/132 [00:02<00:00, 65.91it/s]\n",
      "  1%|▎                                          | 4/525 [00:00<00:13, 39.16it/s]"
     ]
    },
    {
     "name": "stdout",
     "output_type": "stream",
     "text": [
      "3 - 2 0.02371467826621873 0.0055299172373045056 0.9953571428571428\n"
     ]
    },
    {
     "name": "stderr",
     "output_type": "stream",
     "text": [
      "100%|█████████████████████████████████████████| 525/525 [00:13<00:00, 39.16it/s]\n",
      "100%|█████████████████████████████████████████| 132/132 [00:02<00:00, 65.44it/s]\n",
      "  1%|▎                                          | 4/525 [00:00<00:13, 39.48it/s]"
     ]
    },
    {
     "name": "stdout",
     "output_type": "stream",
     "text": [
      "3 - 3 0.020453931103859627 0.005679440583501543 0.9940476190476191\n"
     ]
    },
    {
     "name": "stderr",
     "output_type": "stream",
     "text": [
      "100%|█████████████████████████████████████████| 525/525 [00:13<00:00, 39.19it/s]\n",
      "100%|█████████████████████████████████████████| 132/132 [00:02<00:00, 65.53it/s]\n",
      "  1%|▎                                          | 4/525 [00:00<00:13, 39.15it/s]"
     ]
    },
    {
     "name": "stdout",
     "output_type": "stream",
     "text": [
      "3 - 4 0.016789988414162682 0.005472943584124247 0.9945238095238095\n"
     ]
    },
    {
     "name": "stderr",
     "output_type": "stream",
     "text": [
      "100%|█████████████████████████████████████████| 525/525 [00:13<00:00, 39.43it/s]\n",
      "100%|█████████████████████████████████████████| 132/132 [00:02<00:00, 65.81it/s]\n"
     ]
    },
    {
     "name": "stdout",
     "output_type": "stream",
     "text": [
      "3 - 5 0.014338671249293146 0.005351199976035527 0.9945238095238095\n"
     ]
    },
    {
     "name": "stderr",
     "output_type": "stream",
     "text": [
      "100%|█████████████████████████████████████████| 525/525 [00:13<00:00, 39.73it/s]\n",
      "100%|█████████████████████████████████████████| 132/132 [00:02<00:00, 65.61it/s]\n",
      "  1%|▍                                          | 5/525 [00:00<00:12, 40.49it/s]"
     ]
    },
    {
     "name": "stdout",
     "output_type": "stream",
     "text": [
      "4 - 1 0.015478964071898233 0.0025049154850698653 0.9990476190476191\n"
     ]
    },
    {
     "name": "stderr",
     "output_type": "stream",
     "text": [
      "100%|█████████████████████████████████████████| 525/525 [00:13<00:00, 39.45it/s]\n",
      "100%|█████████████████████████████████████████| 132/132 [00:02<00:00, 65.64it/s]\n",
      "  1%|▎                                          | 4/525 [00:00<00:13, 39.57it/s]"
     ]
    },
    {
     "name": "stdout",
     "output_type": "stream",
     "text": [
      "4 - 2 0.012656705940053577 0.0024274378944010963 0.9986904761904762\n"
     ]
    },
    {
     "name": "stderr",
     "output_type": "stream",
     "text": [
      "100%|█████████████████████████████████████████| 525/525 [00:13<00:00, 39.89it/s]\n",
      "100%|█████████████████████████████████████████| 132/132 [00:02<00:00, 65.81it/s]\n",
      "  1%|▎                                          | 4/525 [00:00<00:13, 38.19it/s]"
     ]
    },
    {
     "name": "stdout",
     "output_type": "stream",
     "text": [
      "4 - 3 0.010376901388877913 0.0026921422389291584 0.9975\n"
     ]
    },
    {
     "name": "stderr",
     "output_type": "stream",
     "text": [
      "100%|█████████████████████████████████████████| 525/525 [00:13<00:00, 39.60it/s]\n",
      "100%|█████████████████████████████████████████| 132/132 [00:01<00:00, 66.26it/s]\n",
      "  1%|▍                                          | 5/525 [00:00<00:12, 40.20it/s]"
     ]
    },
    {
     "name": "stdout",
     "output_type": "stream",
     "text": [
      "4 - 4 0.008933141976594925 0.0022887736878224782 0.9983333333333333\n"
     ]
    },
    {
     "name": "stderr",
     "output_type": "stream",
     "text": [
      "100%|█████████████████████████████████████████| 525/525 [00:13<00:00, 39.34it/s]\n",
      "100%|█████████████████████████████████████████| 132/132 [00:01<00:00, 66.43it/s]\n"
     ]
    },
    {
     "name": "stdout",
     "output_type": "stream",
     "text": [
      "4 - 5 0.0072968881825606026 0.0022731434270029977 0.9983333333333333\n"
     ]
    },
    {
     "name": "stderr",
     "output_type": "stream",
     "text": [
      "100%|█████████████████████████████████████████| 525/525 [00:13<00:00, 38.44it/s]\n",
      "100%|█████████████████████████████████████████| 132/132 [00:02<00:00, 65.02it/s]\n",
      "  1%|▎                                          | 4/525 [00:00<00:13, 38.13it/s]"
     ]
    },
    {
     "name": "stdout",
     "output_type": "stream",
     "text": [
      "5 - 1 0.007974934432478178 0.0012434125585215432 0.9997619047619047\n"
     ]
    },
    {
     "name": "stderr",
     "output_type": "stream",
     "text": [
      "100%|█████████████████████████████████████████| 525/525 [00:13<00:00, 38.58it/s]\n",
      "100%|█████████████████████████████████████████| 132/132 [00:02<00:00, 65.47it/s]\n",
      "  1%|▎                                          | 4/525 [00:00<00:13, 37.95it/s]"
     ]
    },
    {
     "name": "stdout",
     "output_type": "stream",
     "text": [
      "5 - 2 0.0062797218632130395 0.001287412607953662 0.9996428571428572\n"
     ]
    },
    {
     "name": "stderr",
     "output_type": "stream",
     "text": [
      "100%|█████████████████████████████████████████| 525/525 [00:13<00:00, 38.59it/s]\n",
      "100%|█████████████████████████████████████████| 132/132 [00:02<00:00, 65.51it/s]\n",
      "  1%|▎                                          | 4/525 [00:00<00:13, 37.65it/s]"
     ]
    },
    {
     "name": "stdout",
     "output_type": "stream",
     "text": [
      "5 - 3 0.004888212482134501 0.001294220643384116 0.9996428571428572\n"
     ]
    },
    {
     "name": "stderr",
     "output_type": "stream",
     "text": [
      "100%|█████████████████████████████████████████| 525/525 [00:13<00:00, 38.11it/s]\n",
      "100%|█████████████████████████████████████████| 132/132 [00:02<00:00, 65.62it/s]\n",
      "  1%|▎                                          | 4/525 [00:00<00:13, 37.81it/s]"
     ]
    },
    {
     "name": "stdout",
     "output_type": "stream",
     "text": [
      "5 - 4 0.004497978651807422 0.0013889670301051368 0.9991666666666666\n"
     ]
    },
    {
     "name": "stderr",
     "output_type": "stream",
     "text": [
      "100%|█████████████████████████████████████████| 525/525 [00:13<00:00, 38.45it/s]\n",
      "100%|█████████████████████████████████████████| 132/132 [00:02<00:00, 65.61it/s]"
     ]
    },
    {
     "name": "stdout",
     "output_type": "stream",
     "text": [
      "5 - 5 0.003702086738887287 0.0012265877354712712 0.9995238095238095\n"
     ]
    },
    {
     "name": "stderr",
     "output_type": "stream",
     "text": [
      "\n"
     ]
    }
   ],
   "source": [
    "data = pd.read_csv(train_file)\n",
    "\n",
    "#folds = StratifiedKFold(n_splits=fold_count, shuffle=True, random_state=SEED)\n",
    "folds = KFold(n_splits=fold_count, shuffle=True, random_state=SEED)\n",
    "\n",
    "# MNIST\n",
    "kwargs = {} #{'num_workers': 1, 'pin_memory': True} if use_cuda else {}\n",
    "#train_loader_MNIST = torch.utils.data.DataLoader(\n",
    "#        datasets.MNIST('./data', train=True, download=True,\n",
    "#                       transform=transforms.Compose([\n",
    "#                           transforms.ToTensor(),\n",
    "#                           #transforms.Normalize((0.1307,), (0.3081,))\n",
    "#                       ])),\n",
    "#        batch_size=batch_size, shuffle=True, **kwargs)\n",
    "#test_loader_MNIST = torch.utils.data.DataLoader(\n",
    "#        datasets.MNIST('./data', train=False, transform=transforms.Compose([\n",
    "#                           transforms.ToTensor(),\n",
    "#                           #transforms.Normalize((0.1307,), (0.3081,))\n",
    "#                       ])),\n",
    "#        batch_size=batch_size, shuffle=True, **kwargs)\n",
    "\n",
    "#for i_fold, (train_idx, valid_idx) in enumerate(folds.split(train_df, train_y)):\n",
    "for i_fold, (train_idx, valid_idx) in enumerate(folds.split(data)):\n",
    "    train_data = data.iloc[train_idx]\n",
    "    train_data.reset_index(drop=True, inplace=True)\n",
    "\n",
    "    valid_data = data.iloc[valid_idx]\n",
    "    valid_data.reset_index(drop=True, inplace=True)\n",
    "    \n",
    "\n",
    "    #Инициализируем датасеты\n",
    "\n",
    "    trainset = digitDataset(train_data, transform=train_transform)\n",
    "    validset = digitDataset(valid_data, transform=test_transform)\n",
    "\n",
    "    train_loader = torch.utils.data.DataLoader(trainset, \n",
    "                                           batch_size = batch_size, \n",
    "                                           shuffle = True)\n",
    "    valid_loader = torch.utils.data.DataLoader(validset, \n",
    "                                          batch_size = batch_size, \n",
    "                                          shuffle = False)\n",
    "    \n",
    "    for epoch in range(epoch_count):\n",
    "        tr_loss = train(model, train_loader, criterion, optimizer, show=False)\n",
    "        val_loss, predicted = valid(model, valid_loader, criterion, optimizer)\n",
    "        print(i_fold+1, '-', epoch+1, tr_loss, val_loss, predicted)\n",
    "        \n",
    "        \n",
    "        #MNIST\n",
    "        #tr_loss = train(model, train_loader_MNIST, criterion, optimizer, show=False)\n",
    "        #val_loss, predicted = valid(model, valid_loader, criterion, optimizer)\n",
    "        #print('MNIST',i_fold+1, '-', epoch+1, tr_loss, val_loss, predicted)\n",
    "\n",
    "        #tr_loss = train(model, test_loader_MNIST, criterion, optimizer)\n",
    "        #val_loss, predicted = valid(model, valid_loader, criterion, optimizer)\n",
    "        #print('MNIST',i_fold+1, '-', epoch+1, tr_loss, val_loss, predicted)\n",
    "        \n",
    "    \n",
    "        torch.save({'model_state_dict': model.state_dict(),\n",
    "                    'optimizer_state_dict': optimizer.state_dict(),\n",
    "                    'epoch': epoch,\n",
    "                    'loss': tr_loss,\n",
    "                    },\n",
    "                   'model.pth.tar',\n",
    "                   )\n"
   ]
  },
  {
   "cell_type": "code",
   "execution_count": 14,
   "metadata": {},
   "outputs": [
    {
     "name": "stderr",
     "output_type": "stream",
     "text": [
      "100%|█████████████████████████████████████████| 438/438 [00:06<00:00, 65.58it/s]\n"
     ]
    }
   ],
   "source": [
    "test_data = pd.read_csv(test_file)\n",
    "\n",
    "\n",
    "testset = digitDataset(test_data, transform=test_transform)\n",
    "\n",
    "test_loader = torch.utils.data.DataLoader(testset, \n",
    "                                          batch_size = batch_size, \n",
    "                                          shuffle = False)\n",
    "\n",
    "test_preds = test(model, test_loader, criterion, optimizer)\n",
    "\n",
    "\n",
    "#model = digitModel().to(device)\n",
    "#checkpoint = torch.load('model.pth.tar')\n",
    "#model.load_state_dict(checkpoint['model_state_dict'])\n",
    "\n",
    "# Save predictions per fold\n",
    "#_, predicted = torch.max(test_preds, 1)\n",
    "\n",
    "submission_df['Label'] = test_preds\n",
    "submission_df.to_csv('submission.csv', index=False)\n"
   ]
  },
  {
   "cell_type": "code",
   "execution_count": null,
   "metadata": {},
   "outputs": [],
   "source": []
  }
 ],
 "metadata": {
  "kernelspec": {
   "display_name": "Python 3",
   "language": "python",
   "name": "python3"
  },
  "language_info": {
   "codemirror_mode": {
    "name": "ipython",
    "version": 3
   },
   "file_extension": ".py",
   "mimetype": "text/x-python",
   "name": "python",
   "nbconvert_exporter": "python",
   "pygments_lexer": "ipython3",
   "version": "3.8.2"
  },
  "varInspector": {
   "cols": {
    "lenName": 16,
    "lenType": 16,
    "lenVar": 40
   },
   "kernels_config": {
    "python": {
     "delete_cmd_postfix": "",
     "delete_cmd_prefix": "del ",
     "library": "var_list.py",
     "varRefreshCmd": "print(var_dic_list())"
    },
    "r": {
     "delete_cmd_postfix": ") ",
     "delete_cmd_prefix": "rm(",
     "library": "var_list.r",
     "varRefreshCmd": "cat(var_dic_list()) "
    }
   },
   "types_to_exclude": [
    "module",
    "function",
    "builtin_function_or_method",
    "instance",
    "_Feature"
   ],
   "window_display": false
  }
 },
 "nbformat": 4,
 "nbformat_minor": 4
}
