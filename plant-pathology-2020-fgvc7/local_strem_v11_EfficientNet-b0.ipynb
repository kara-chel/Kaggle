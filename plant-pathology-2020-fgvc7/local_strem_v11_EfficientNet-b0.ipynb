{
 "cells": [
  {
   "cell_type": "code",
   "execution_count": 1,
   "metadata": {},
   "outputs": [],
   "source": [
    "import torch\n",
    "from torch import nn, optim\n",
    "from torch.nn import Module as M\n",
    "from torch.utils.data import Dataset as D\n",
    "# import torchvision\n",
    "from torchvision import datasets # for mnist\n",
    "import torchvision.transforms as transforms\n",
    "#from transformers import AdamW\n",
    "#from transformers import get_cosine_schedule_with_warmup\n",
    "from torch.optim import lr_scheduler\n",
    "from torch.optim.lr_scheduler import ReduceLROnPlateau\n",
    "from torch.optim.optimizer import Optimizer\n",
    "from efficientnet_pytorch import EfficientNet\n",
    "from torchsummary import summary\n",
    "\n",
    "import matplotlib.pyplot as plt\n",
    "import matplotlib.cm as cm\n",
    "import pandas as pd\n",
    "import os\n",
    "import numpy as np\n",
    "import random\n",
    "import math\n",
    "import tqdm\n",
    "#from tqdm import tqdm\n",
    "\n",
    "import albumentations as A\n",
    "from albumentations.pytorch import ToTensorV2 as AT\n",
    "\n",
    "import cv2\n",
    "\n",
    "#from sklearn.metrics import roc_auc_score\n",
    "from sklearn.model_selection import KFold\n",
    "from sklearn.model_selection import StratifiedKFold\n",
    "\n",
    "import logging\n"
   ]
  },
  {
   "cell_type": "code",
   "execution_count": 2,
   "metadata": {},
   "outputs": [],
   "source": [
    "#device_lib.list_local_device() #tf"
   ]
  },
  {
   "cell_type": "code",
   "execution_count": 3,
   "metadata": {},
   "outputs": [],
   "source": [
    "VER = 11\n",
    "MODEL_NAME = 'efficientnet-b0'\n",
    "NAME = 'plant-pathology-2020-fgvc7_v{}_{}'.format(VER, MODEL_NAME)\n",
    "\n",
    "# EfficientNet\n",
    "# Coefficients:   width,depth,res,dropout\n",
    "#'efficientnet-b0': (1.0, 1.0, 224, 0.2),\n",
    "#'efficientnet-b1': (1.0, 1.1, 240, 0.2),\n",
    "#'efficientnet-b2': (1.1, 1.2, 260, 0.3),\n",
    "#'efficientnet-b3': (1.2, 1.4, 300, 0.3),\n",
    "#'efficientnet-b4': (1.4, 1.8, 380, 0.4),\n",
    "#'efficientnet-b5': (1.6, 2.2, 456, 0.4),\n",
    "#'efficientnet-b6': (1.8, 2.6, 528, 0.5),\n",
    "#'efficientnet-b7': (2.0, 3.1, 600, 0.5),\n",
    "#'efficientnet-b8': (2.2, 3.6, 672, 0.5),\n",
    "#'efficientnet-l2': (4.3, 5.3, 800, 0.5),\n",
    "IMG_SIZE = 224\n",
    "DROPOUT = 0.2 # для fc\n",
    "\n",
    "EPOCH_COUNT = 10\n",
    "FOLD_COUNT = 5\n",
    "SEED = 42\n",
    "CONT_TRAIN = False # more train\n",
    "RESTORE_TRAIN = False # continue train after server restart\n",
    "FACTOR = 0.8\n",
    "PATIENCE = 1\n",
    "\n",
    "BATCH_SIZE = 64\n",
    "\n",
    "# Параметры оптимизатора Adam\n",
    "BETA1 = 0.8\n",
    "BETA2 = 0.999\n",
    "\n",
    "#BASE_PATH = '/kaggle/input/plant-pathology-2020-fgvc7'\n",
    "BASE_PATH = './data'\n",
    "TRAIN_FILE = os.path.join(BASE_PATH, \"train.csv\")\n",
    "TEST_FILE = os.path.join(BASE_PATH, \"test.csv\")\n",
    "SUBMISSION_FILE = os.path.join(BASE_PATH, \"sample_submission.csv\")\n",
    "\n",
    "USE_GPU = True\n",
    "device = torch.device('cuda:0' if torch.cuda.is_available() and USE_GPU else 'cpu')\n",
    "\n",
    "a_tr_loss = []\n",
    "a_val_loss = []\n",
    "a_tr_acc = []\n",
    "a_acc = []\n",
    "\n",
    "# Скорость обучения\n",
    "LR = 1e-5\n"
   ]
  },
  {
   "cell_type": "code",
   "execution_count": 4,
   "metadata": {},
   "outputs": [],
   "source": [
    "logging.basicConfig(filename=NAME+'.log',\n",
    "                    format='%(asctime)s - %(levelname)s - %(message)s',\n",
    "                    level=logging.INFO)\n",
    "logging.info('________________________________________________________')\n",
    "logging.info('Запуск скрипта')\n",
    "logging.info('________________________________________________________')\n",
    "logging.info('Колличество фолдов: {}'.format(FOLD_COUNT))\n",
    "logging.info('Колличество этох в каждом фолне: {}'.format(EPOCH_COUNT))\n",
    "logging.info('Размер батча: {}'.format(BATCH_SIZE))\n",
    "logging.info('Cкорость обучения: {}'.format(LR))\n",
    "logging.info('Adam betas: {{{},{}}}'.format(BETA1, BETA2))\n",
    "logging.info('Режим продолжения тренировки: {}'.format(CONT_TRAIN))\n",
    "logging.info('Режим восстановления тренировки: {}'.format(RESTORE_TRAIN))\n",
    "logging.info('________________________________________________________')\n"
   ]
  },
  {
   "cell_type": "code",
   "execution_count": 5,
   "metadata": {},
   "outputs": [],
   "source": [
    "train_df = pd.read_csv(TRAIN_FILE)\n",
    "#train_df.head()"
   ]
  },
  {
   "cell_type": "code",
   "execution_count": 6,
   "metadata": {},
   "outputs": [],
   "source": [
    "test_df = pd.read_csv(TEST_FILE)\n",
    "#test_df.head()"
   ]
  },
  {
   "cell_type": "code",
   "execution_count": 7,
   "metadata": {},
   "outputs": [],
   "source": [
    "submission_df = pd.read_csv(SUBMISSION_FILE)\n",
    "submission_df.iloc[:, 1:] = 0\n",
    "\n",
    "#submission_df.head()"
   ]
  },
  {
   "cell_type": "code",
   "execution_count": 8,
   "metadata": {},
   "outputs": [],
   "source": [
    "class digitDataset(D):\n",
    "    def __init__(self, df, transform=None): #, labels=None\n",
    "        if 'healthy' in df: # ['healthy','multiple_diseases','rust','scab']\n",
    "            self.images_id = df['image_id'].values\n",
    "            self.labels = df.drop(axis=1, columns='image_id').values\n",
    "            self.labels = self.labels[:, 1] + self.labels[:, 2] * 2 + self.labels[:, 3] * 3\n",
    "        else:\n",
    "            self.images_id = df['image_id'].values\n",
    "            self.labels = np.zeros(len(df))\n",
    "        \n",
    "        self.transform = transform\n",
    "            \n",
    "    def __len__(self):\n",
    "        return len(self.images_id)\n",
    "    \n",
    "    def __getitem__(self, idx):\n",
    "        image_src = BASE_PATH + '/images/' + self.images_id[idx] + '.jpg'\n",
    "        image = cv2.imread(image_src) #, cv2.IMREAD_COLOR)\n",
    "        image = cv2.cvtColor(image, cv2.COLOR_BGR2RGB)\n",
    "        labels = self.labels[idx]\n",
    "        \n",
    "        if self.transform:\n",
    "            transformed = self.transform(image=image)\n",
    "            image = transformed['image']\n",
    "\n",
    "        image = np.multiply(image, 1/255)\n",
    "        image = torch.from_numpy(np.array(image, dtype=np.float32))\n",
    "\n",
    "        return image, labels\n"
   ]
  },
  {
   "cell_type": "code",
   "execution_count": 9,
   "metadata": {},
   "outputs": [],
   "source": [
    "def imshow(imgs, lbls, epoh='', batch=''):\n",
    "    x = int(math.sqrt(len(imgs)))+1\n",
    "    y = x + 1\n",
    "    imgs = np.multiply(imgs, 255)\n",
    "    fig = plt.figure(figsize=(15, 16))\n",
    "    for i, img in enumerate(imgs):\n",
    "        img = np.rollaxis(img.numpy(), 0, 3)\n",
    "        img = np.uint8(img)\n",
    "        ax = fig.add_subplot(x, y, i+1)\n",
    "        ax.set_title(str(lbls.numpy()[i]))\n",
    "        ax.imshow(img, cmap = cm.binary)\n",
    "        plt.xticks(np.array([]))\n",
    "        plt.yticks(np.array([]))\n",
    "    plt.show()"
   ]
  },
  {
   "cell_type": "code",
   "execution_count": 23,
   "metadata": {},
   "outputs": [],
   "source": [
    "def load_model(criterion=''):\n",
    "    global model, a_tr_loss, a_val_loss, a_acc, c_i_fold, c_epoch, lr\n",
    "    if criterion != '':\n",
    "        criterion = '_'+criterion\n",
    "\n",
    "    logging.info('Восстановление весов модели')\n",
    "    checkpoint = torch.load(NAME+'{}_model.pt'.format(criterion), map_location=device) #'cpu'\n",
    "\n",
    "    if VER != checkpoint['ver']:\n",
    "        raise RuntimeError(\"Incorrect model version.\")\n",
    "\n",
    "    model.load_state_dict(checkpoint['model_state_dict'])\n",
    "\n",
    "    a_tr_loss = checkpoint['tr_loss']\n",
    "    a_val_loss = checkpoint['val_loss']\n",
    "    a_tr_acc = checkpoint['tr_acc']\n",
    "    a_acc = checkpoint['acc']\n",
    "    c_i_fold = checkpoint['i_fold']\n",
    "    c_epoch = checkpoint['epoch']\n",
    "    lr = checkpoint['lr']\n",
    "\n",
    "    logging.info('Восстановление lr: {}'.format(lr))\n",
    "    logging.info('Восстановление c_i_fold: {}'.format(c_i_fold))\n",
    "    logging.info('Восстановление c_epoch: {}'.format(c_epoch))\n"
   ]
  },
  {
   "cell_type": "code",
   "execution_count": 11,
   "metadata": {},
   "outputs": [],
   "source": [
    "class KScheduler(object):\n",
    "    '''\n",
    "        Класс KScheduler создает нелинейное lr\n",
    "    '''\n",
    "    def __init__(self, optimizer, epoch=0): # , lr): # , last_epoch=-1):\n",
    "\n",
    "        # Attach optimizer\n",
    "        if not isinstance(optimizer, Optimizer):\n",
    "            raise TypeError('{} is not an Optimizer'.format(\n",
    "                type(optimizer).__name__))\n",
    "        self.optimizer = optimizer\n",
    "\n",
    "        # Initialize epoch and base learning rates\n",
    "        #if last_epoch == -1:\n",
    "        #    for group in optimizer.param_groups:\n",
    "        #        group.setdefault('initial_lr', group['lr'])\n",
    "        #else:\n",
    "        #    for i, group in enumerate(optimizer.param_groups):\n",
    "        #        if 'initial_lr' not in group:\n",
    "        #            raise KeyError(\"param 'initial_lr' is not specified \"\n",
    "        #                           \"in param_groups[{}] when resuming an optimizer\".format(i))\n",
    "        #self.base_lrs = list(map(lambda group: group['initial_lr'], optimizer.param_groups))\n",
    "        self.base_lrs = [p['lr'] for p in optimizer.param_groups]\n",
    "        lr = self.base_lrs[0]\n",
    "        #self.last_epoch = last_epoch\n",
    "        \n",
    "        self.LR_START = lr    # 0.00001\n",
    "        self.LR_MAX = lr * 10 # 0.0001 * 1\n",
    "        self.LR_MIN = lr / 2  # 0.00001\n",
    "        self.LR_RAMPUP_EPOCHS = 10\n",
    "        self.LR_SUSTAIN_EPOCHS = 3\n",
    "        self.LR_EXP_DECAY = .8\n",
    "        \n",
    "        self.last_epoch = epoch\n",
    "        #self.lr = self.base_lrs[0]\n",
    "\n",
    "        #self.optimizer.step = with_counter(self.optimizer.step)\n",
    "        #self.optimizer._step_count = 0\n",
    "        self._step_count = 0\n",
    "\n",
    "        #self.step()\n",
    "\n",
    "    #def get_lr(self):\n",
    "        # Compute learning rate using chainable form of the scheduler\n",
    "        #raise NotImplementedError\n",
    "\n",
    "    def get_last_lr(self):\n",
    "        \"\"\" Return last computed learning rate by current scheduler.\n",
    "        \"\"\"\n",
    "        return self._last_lr\n",
    "\n",
    "    def step(self, epoch=None):\n",
    "\n",
    "        self._step_count += 1\n",
    "        \n",
    "        if epoch is None:\n",
    "            self.last_epoch += 1\n",
    "        else:\n",
    "            self.last_epoch = epoch\n",
    "        \n",
    "        \n",
    "        #values = self.get_lr()\n",
    "        lr = self._lr(self.last_epoch)\n",
    "\n",
    "        print('LR is set to {}'.format(lr))\n",
    "\n",
    "        for param_group in self.optimizer.param_groups:\n",
    "            param_group['lr'] = lr\n",
    "\n",
    "        return optimizer\n",
    "    \n",
    "    def _lr(self, epoch):\n",
    "        if epoch < self.LR_RAMPUP_EPOCHS: #if epoch is lower then 15\n",
    "            lr = (self.LR_MAX - self.LR_START) / self.LR_RAMPUP_EPOCHS * epoch + self.LR_START\n",
    "        elif epoch < self.LR_RAMPUP_EPOCHS + self.LR_SUSTAIN_EPOCHS:\n",
    "            lr = self.LR_MAX\n",
    "        else:\n",
    "            lr = (self.LR_MAX - self.LR_MIN) * self.LR_EXP_DECAY**(epoch - self.LR_RAMPUP_EPOCHS - self.LR_SUSTAIN_EPOCHS) + self.LR_MIN\n",
    "        return lr\n",
    "\n",
    "    def show(self, epochs):\n",
    "\n",
    "        #Смотрим что у нас получилось\n",
    "        y = [self._lr(x) for x in range(epochs)]\n",
    "        plt.plot(range(epochs), y)\n",
    "        print(\"Learning rate schedule: {:.3g} to {:.3g} to {:.3g}\".format(y[0], max(y), y[-1]))\n"
   ]
  },
  {
   "cell_type": "code",
   "execution_count": 12,
   "metadata": {},
   "outputs": [
    {
     "name": "stdout",
     "output_type": "stream",
     "text": [
      "Loaded pretrained weights for efficientnet-b0\n",
      "Learning rate schedule: 1e-05 to 0.0001 to 5.03e-06\n"
     ]
    },
    {
     "data": {
      "image/png": "[encoded data removed]",
      "text/plain": [
       "<Figure size 432x288 with 1 Axes>"
      ]
     },
     "metadata": {
      "needs_background": "light"
     },
     "output_type": "display_data"
    }
   ],
   "source": [
    "logging.info('Создание модели')\n",
    "\n",
    "class ppModel(M):\n",
    "    def __init__(self, MODEL_NAME, DROPOUT):\n",
    "        super(ppModel, self).__init__()\n",
    "\n",
    "        self.efn = EfficientNet.from_pretrained(MODEL_NAME)\n",
    "        self.fc = nn.Sequential(nn.ReLU(),\n",
    "                                nn.Dropout(p=DROPOUT),\n",
    "                                nn.Linear(1000, 4, bias=False),\n",
    "        )\n",
    "\n",
    "    def forward(self, x):\n",
    "        x = self.efn(x)\n",
    "        x = self.fc(x)\n",
    "        return x\n",
    "\n",
    "model = ppModel(MODEL_NAME, DROPOUT)\n",
    "\n",
    "optimizer = optim.Adam(model.parameters(), lr=LR, betas=(BETA1, BETA2))\n",
    "#optimizer = optim.AdamW(model.parameters(), lr = 8e-4, weight_decay = 1e-3)\n",
    "\n",
    "scheduler = KScheduler(optimizer)\n",
    "#scheduler = lr_scheduler.LambdaLR(optimizer, lrfn)\n",
    "#scheduler = lr_scheduler.MultiplicativeLR(optimizer, lrfn)\n",
    "scheduler.show(FOLD_COUNT * EPOCH_COUNT)\n",
    "\n",
    "if CONT_TRAIN:\n",
    "    logging.info('Запущен режим продолжения тренировки')\n",
    "\n",
    "if RESTORE_TRAIN:\n",
    "    logging.info('Запущен режим восстановления процесса тренировки')\n",
    "\n",
    "if CONT_TRAIN or RESTORE_TRAIN:\n",
    "    load_model()\n",
    "\n",
    "criterion = nn.CrossEntropyLoss()\n",
    "\n",
    "model = model.to(device)\n",
    "\n",
    "# summary(model, (3, IMG_SIZE, IMG_SIZE))\n",
    "# raise RuntimeError(\"Break\")\n"
   ]
  },
  {
   "cell_type": "code",
   "execution_count": 13,
   "metadata": {},
   "outputs": [],
   "source": [
    "def train(model, train_loader, criterion, optimizer, noise=True, show=False, show_first=False):\n",
    "    model.train()\n",
    "    tr_loss = 0\n",
    "    correct = 0\n",
    "    count = 0\n",
    "    \n",
    "    for step, batch in enumerate(tqdm.tqdm(train_loader)):\n",
    "            \n",
    "        images = batch[0]\n",
    "        labels = batch[1]\n",
    "        \n",
    "        count += len(images)\n",
    "        \n",
    "        # добавляем шума\n",
    "        if noise:\n",
    "            images = images + torch.normal(0, 0.0001, size=images.size())\n",
    "        \n",
    "        if show:\n",
    "            imshow(images, labels)\n",
    "        if show_first and step == 0:\n",
    "            imshow(images, labels)\n",
    "        \n",
    "        images = images.to(device)\n",
    "        labels = labels.to(device)\n",
    "\n",
    "        outputs = model(images).squeeze(-1)\n",
    "        loss = criterion(outputs, labels)\n",
    "        loss.backward()\n",
    "\n",
    "        tr_loss += loss.item()\n",
    "\n",
    "        optimizer.step()\n",
    "        optimizer.zero_grad()\n",
    "        \n",
    "        _, predicted = torch.max(outputs.data, 1)\n",
    "        correct += (predicted == labels).sum().item()\n",
    "        \n",
    "    return tr_loss / len(train_loader), correct / count"
   ]
  },
  {
   "cell_type": "code",
   "execution_count": 14,
   "metadata": {},
   "outputs": [],
   "source": [
    "# torch.normal(0, 0.0001)\n",
    "#torch.normal(mean=torch.arange(1., 9.), std=torch.arange(1, 0, -0.1))\n",
    "#torch.normal(0, 0.0001, size=(1, 4))\n",
    "#images.size()"
   ]
  },
  {
   "cell_type": "code",
   "execution_count": 15,
   "metadata": {},
   "outputs": [],
   "source": [
    "def valid(model, valid_loader, criterion, optimizer):\n",
    "    model.eval()\n",
    "    val_loss = 0\n",
    "    correct = 0\n",
    "    count = 0\n",
    "\n",
    "    for step, batch in enumerate(tqdm.tqdm(valid_loader)):\n",
    "\n",
    "            images = batch[0]\n",
    "            labels = batch[1]\n",
    "\n",
    "            count += len(images)\n",
    "\n",
    "            images = images.to(device)\n",
    "            labels = labels.to(device)\n",
    "\n",
    "            with torch.no_grad():\n",
    "                outputs = model(images)\n",
    "\n",
    "                loss = criterion(outputs, labels)\n",
    "                val_loss += loss.item()\n",
    "\n",
    "                _, predicted = torch.max(outputs.data, 1)\n",
    "                correct += (predicted == labels).sum().item()\n",
    "                    \n",
    "    return val_loss / len(valid_loader), correct / count"
   ]
  },
  {
   "cell_type": "code",
   "execution_count": 16,
   "metadata": {},
   "outputs": [],
   "source": [
    "def test(model, test_loader, criterion, optimizer):\n",
    "    model.eval()\n",
    "    test_preds = None\n",
    "    \n",
    "    for step, batch in enumerate(tqdm.tqdm(test_loader)):\n",
    "\n",
    "        images = batch[0]\n",
    "        images = images.to(device) #, dtype=torch.float)\n",
    "\n",
    "        with torch.no_grad():\n",
    "            outputs = model(images)\n",
    "\n",
    "            \n",
    "            if test_preds is None:\n",
    "                test_preds = outputs.data.cpu()\n",
    "            else:\n",
    "                test_preds = torch.cat((test_preds, outputs.data.cpu()), dim=0)\n",
    "    return test_preds\n"
   ]
  },
  {
   "cell_type": "code",
   "execution_count": 17,
   "metadata": {},
   "outputs": [],
   "source": [
    "train_transform = A.Compose([\n",
    "    ###A.CenterCrop(height=1365, width=1365, always_apply=True),\n",
    "    A.RandomCrop(height=1000, width=1000, always_apply=True),\n",
    "    A.Resize(height=IMG_SIZE, width=IMG_SIZE, always_apply=True),\n",
    "    A.HorizontalFlip(p=0.5),\n",
    "    A.VerticalFlip(p=0.5),\n",
    "    A.ShiftScaleRotate(rotate_limit=90.0, p=0.7),\n",
    "    A.OneOf([A.IAAEmboss(p=1),\n",
    "             A.IAASharpen(p=1),\n",
    "             A.Blur(p=1)], p=0.5),\n",
    "    A.IAAPiecewiseAffine(p=0.5),\n",
    "    #A.Normalize((0.485, 0.456, 0.406), (0.229, 0.224, 0.225), always_apply=True),\n",
    "    AT(always_apply=True),\n",
    "])\n",
    "\n",
    "test_transform = A.Compose([\n",
    "    A.CenterCrop(height=1365, width=1365, always_apply=True),\n",
    "    A.Resize(height=IMG_SIZE, width=IMG_SIZE, always_apply=True),\n",
    "    #A.Normalize((0.485, 0.456, 0.406), (0.229, 0.224, 0.225), always_apply=True),\n",
    "    AT(always_apply=True),\n",
    "])"
   ]
  },
  {
   "cell_type": "code",
   "execution_count": 18,
   "metadata": {},
   "outputs": [],
   "source": [
    "def show_history():\n",
    "    plt.plot(range(0, len(a_tr_loss)), a_tr_loss, color='green', label='Training loss')\n",
    "    plt.plot(range(0, len(a_val_loss)), a_val_loss, color='red', label='Validation loss')\n",
    "    plt.legend()\n",
    "    plt.figure()\n",
    "\n",
    "    plt.plot(range(0, len(a_tr_acc)), a_tr_acc, color='green', label='Training acc')\n",
    "    plt.plot(range(0, len(a_acc)), a_acc, color='red', label='Validation acc')\n",
    "    plt.title('Training and validation accuracy')\n",
    "    plt.legend()\n",
    "    plt.figure()\n",
    "\n",
    "    plt.show()"
   ]
  },
  {
   "cell_type": "code",
   "execution_count": 19,
   "metadata": {},
   "outputs": [
    {
     "name": "stdout",
     "output_type": "stream",
     "text": [
      "name1: - efn\n",
      "name2: - _conv_stem.weight\n",
      "name2: - _bn0.weight\n",
      "name2: - _bn0.bias\n",
      "name2: - _blocks.0._depthwise_conv.weight\n",
      "name2: - _blocks.0._bn1.weight\n",
      "name2: - _blocks.0._bn1.bias\n",
      "name2: - _blocks.0._se_reduce.weight\n",
      "name2: - _blocks.0._se_reduce.bias\n",
      "name2: - _blocks.0._se_expand.weight\n",
      "name2: - _blocks.0._se_expand.bias\n",
      "name2: - _blocks.0._project_conv.weight\n",
      "name2: - _blocks.0._bn2.weight\n",
      "name2: - _blocks.0._bn2.bias\n",
      "name2: - _blocks.1._expand_conv.weight\n",
      "name2: - _blocks.1._bn0.weight\n",
      "name2: - _blocks.1._bn0.bias\n",
      "name2: - _blocks.1._depthwise_conv.weight\n",
      "name2: - _blocks.1._bn1.weight\n",
      "name2: - _blocks.1._bn1.bias\n",
      "name2: - _blocks.1._se_reduce.weight\n",
      "name2: - _blocks.1._se_reduce.bias\n",
      "name2: - _blocks.1._se_expand.weight\n",
      "name2: - _blocks.1._se_expand.bias\n",
      "name2: - _blocks.1._project_conv.weight\n",
      "name2: - _blocks.1._bn2.weight\n",
      "name2: - _blocks.1._bn2.bias\n",
      "name2: - _blocks.2._expand_conv.weight\n",
      "name2: - _blocks.2._bn0.weight\n",
      "name2: - _blocks.2._bn0.bias\n",
      "name2: - _blocks.2._depthwise_conv.weight\n",
      "name2: - _blocks.2._bn1.weight\n",
      "name2: - _blocks.2._bn1.bias\n",
      "name2: - _blocks.2._se_reduce.weight\n",
      "name2: - _blocks.2._se_reduce.bias\n",
      "name2: - _blocks.2._se_expand.weight\n",
      "name2: - _blocks.2._se_expand.bias\n",
      "name2: - _blocks.2._project_conv.weight\n",
      "name2: - _blocks.2._bn2.weight\n",
      "name2: - _blocks.2._bn2.bias\n",
      "name2: - _blocks.3._expand_conv.weight\n",
      "name2: - _blocks.3._bn0.weight\n",
      "name2: - _blocks.3._bn0.bias\n",
      "name2: - _blocks.3._depthwise_conv.weight\n",
      "name2: - _blocks.3._bn1.weight\n",
      "name2: - _blocks.3._bn1.bias\n",
      "name2: - _blocks.3._se_reduce.weight\n",
      "name2: - _blocks.3._se_reduce.bias\n",
      "name2: - _blocks.3._se_expand.weight\n",
      "name2: - _blocks.3._se_expand.bias\n",
      "name2: - _blocks.3._project_conv.weight\n",
      "name2: - _blocks.3._bn2.weight\n",
      "name2: - _blocks.3._bn2.bias\n",
      "name2: - _blocks.4._expand_conv.weight\n",
      "name2: - _blocks.4._bn0.weight\n",
      "name2: - _blocks.4._bn0.bias\n",
      "name2: - _blocks.4._depthwise_conv.weight\n",
      "name2: - _blocks.4._bn1.weight\n",
      "name2: - _blocks.4._bn1.bias\n",
      "name2: - _blocks.4._se_reduce.weight\n",
      "name2: - _blocks.4._se_reduce.bias\n",
      "name2: - _blocks.4._se_expand.weight\n",
      "name2: - _blocks.4._se_expand.bias\n",
      "name2: - _blocks.4._project_conv.weight\n",
      "name2: - _blocks.4._bn2.weight\n",
      "name2: - _blocks.4._bn2.bias\n",
      "name2: - _blocks.5._expand_conv.weight\n",
      "name2: - _blocks.5._bn0.weight\n",
      "name2: - _blocks.5._bn0.bias\n",
      "name2: - _blocks.5._depthwise_conv.weight\n",
      "name2: - _blocks.5._bn1.weight\n",
      "name2: - _blocks.5._bn1.bias\n",
      "name2: - _blocks.5._se_reduce.weight\n",
      "name2: - _blocks.5._se_reduce.bias\n",
      "name2: - _blocks.5._se_expand.weight\n",
      "name2: - _blocks.5._se_expand.bias\n",
      "name2: - _blocks.5._project_conv.weight\n",
      "name2: - _blocks.5._bn2.weight\n",
      "name2: - _blocks.5._bn2.bias\n",
      "name2: - _blocks.6._expand_conv.weight\n",
      "name2: - _blocks.6._bn0.weight\n",
      "name2: - _blocks.6._bn0.bias\n",
      "name2: - _blocks.6._depthwise_conv.weight\n",
      "name2: - _blocks.6._bn1.weight\n",
      "name2: - _blocks.6._bn1.bias\n",
      "name2: - _blocks.6._se_reduce.weight\n",
      "name2: - _blocks.6._se_reduce.bias\n",
      "name2: - _blocks.6._se_expand.weight\n",
      "name2: - _blocks.6._se_expand.bias\n",
      "name2: - _blocks.6._project_conv.weight\n",
      "name2: - _blocks.6._bn2.weight\n",
      "name2: - _blocks.6._bn2.bias\n",
      "name2: - _blocks.7._expand_conv.weight\n",
      "name2: - _blocks.7._bn0.weight\n",
      "name2: - _blocks.7._bn0.bias\n",
      "name2: - _blocks.7._depthwise_conv.weight\n",
      "name2: - _blocks.7._bn1.weight\n",
      "name2: - _blocks.7._bn1.bias\n",
      "name2: - _blocks.7._se_reduce.weight\n",
      "name2: - _blocks.7._se_reduce.bias\n",
      "name2: - _blocks.7._se_expand.weight\n",
      "name2: - _blocks.7._se_expand.bias\n",
      "name2: - _blocks.7._project_conv.weight\n",
      "name2: - _blocks.7._bn2.weight\n",
      "name2: - _blocks.7._bn2.bias\n",
      "name2: - _blocks.8._expand_conv.weight\n",
      "name2: - _blocks.8._bn0.weight\n",
      "name2: - _blocks.8._bn0.bias\n",
      "name2: - _blocks.8._depthwise_conv.weight\n",
      "name2: - _blocks.8._bn1.weight\n",
      "name2: - _blocks.8._bn1.bias\n",
      "name2: - _blocks.8._se_reduce.weight\n",
      "name2: - _blocks.8._se_reduce.bias\n",
      "name2: - _blocks.8._se_expand.weight\n",
      "name2: - _blocks.8._se_expand.bias\n",
      "name2: - _blocks.8._project_conv.weight\n",
      "name2: - _blocks.8._bn2.weight\n",
      "name2: - _blocks.8._bn2.bias\n",
      "name2: - _blocks.9._expand_conv.weight\n",
      "name2: - _blocks.9._bn0.weight\n",
      "name2: - _blocks.9._bn0.bias\n",
      "name2: - _blocks.9._depthwise_conv.weight\n",
      "name2: - _blocks.9._bn1.weight\n",
      "name2: - _blocks.9._bn1.bias\n",
      "name2: - _blocks.9._se_reduce.weight\n",
      "name2: - _blocks.9._se_reduce.bias\n",
      "name2: - _blocks.9._se_expand.weight\n",
      "name2: - _blocks.9._se_expand.bias\n",
      "name2: - _blocks.9._project_conv.weight\n",
      "name2: - _blocks.9._bn2.weight\n",
      "name2: - _blocks.9._bn2.bias\n",
      "name2: - _blocks.10._expand_conv.weight\n",
      "name2: - _blocks.10._bn0.weight\n",
      "name2: - _blocks.10._bn0.bias\n",
      "name2: - _blocks.10._depthwise_conv.weight\n",
      "name2: - _blocks.10._bn1.weight\n",
      "name2: - _blocks.10._bn1.bias\n",
      "name2: - _blocks.10._se_reduce.weight\n",
      "name2: - _blocks.10._se_reduce.bias\n",
      "name2: - _blocks.10._se_expand.weight\n",
      "name2: - _blocks.10._se_expand.bias\n",
      "name2: - _blocks.10._project_conv.weight\n",
      "name2: - _blocks.10._bn2.weight\n",
      "name2: - _blocks.10._bn2.bias\n",
      "name2: - _blocks.11._expand_conv.weight\n",
      "name2: - _blocks.11._bn0.weight\n",
      "name2: - _blocks.11._bn0.bias\n",
      "name2: - _blocks.11._depthwise_conv.weight\n",
      "name2: - _blocks.11._bn1.weight\n",
      "name2: - _blocks.11._bn1.bias\n",
      "name2: - _blocks.11._se_reduce.weight\n",
      "name2: - _blocks.11._se_reduce.bias\n",
      "name2: - _blocks.11._se_expand.weight\n",
      "name2: - _blocks.11._se_expand.bias\n",
      "name2: - _blocks.11._project_conv.weight\n",
      "name2: - _blocks.11._bn2.weight\n",
      "name2: - _blocks.11._bn2.bias\n",
      "name2: - _blocks.12._expand_conv.weight\n",
      "name2: - _blocks.12._bn0.weight\n",
      "name2: - _blocks.12._bn0.bias\n",
      "name2: - _blocks.12._depthwise_conv.weight\n",
      "name2: - _blocks.12._bn1.weight\n",
      "name2: - _blocks.12._bn1.bias\n",
      "name2: - _blocks.12._se_reduce.weight\n",
      "name2: - _blocks.12._se_reduce.bias\n",
      "name2: - _blocks.12._se_expand.weight\n",
      "name2: - _blocks.12._se_expand.bias\n",
      "name2: - _blocks.12._project_conv.weight\n",
      "name2: - _blocks.12._bn2.weight\n",
      "name2: - _blocks.12._bn2.bias\n",
      "name2: - _blocks.13._expand_conv.weight\n",
      "name2: - _blocks.13._bn0.weight\n",
      "name2: - _blocks.13._bn0.bias\n",
      "name2: - _blocks.13._depthwise_conv.weight\n",
      "name2: - _blocks.13._bn1.weight\n",
      "name2: - _blocks.13._bn1.bias\n",
      "name2: - _blocks.13._se_reduce.weight\n",
      "name2: - _blocks.13._se_reduce.bias\n",
      "name2: - _blocks.13._se_expand.weight\n",
      "name2: - _blocks.13._se_expand.bias\n",
      "name2: - _blocks.13._project_conv.weight\n",
      "name2: - _blocks.13._bn2.weight\n",
      "name2: - _blocks.13._bn2.bias\n",
      "name2: - _blocks.14._expand_conv.weight\n",
      "name2: - _blocks.14._bn0.weight\n",
      "name2: - _blocks.14._bn0.bias\n",
      "name2: - _blocks.14._depthwise_conv.weight\n",
      "name2: - _blocks.14._bn1.weight\n",
      "name2: - _blocks.14._bn1.bias\n",
      "name2: - _blocks.14._se_reduce.weight\n",
      "name2: - _blocks.14._se_reduce.bias\n",
      "name2: - _blocks.14._se_expand.weight\n",
      "name2: - _blocks.14._se_expand.bias\n",
      "name2: - _blocks.14._project_conv.weight\n",
      "name2: - _blocks.14._bn2.weight\n",
      "name2: - _blocks.14._bn2.bias\n",
      "name2: - _blocks.15._expand_conv.weight\n",
      "name2: - _blocks.15._bn0.weight\n",
      "name2: - _blocks.15._bn0.bias\n",
      "name2: - _blocks.15._depthwise_conv.weight\n",
      "name2: - _blocks.15._bn1.weight\n",
      "name2: - _blocks.15._bn1.bias\n",
      "name2: - _blocks.15._se_reduce.weight\n",
      "name2: - _blocks.15._se_reduce.bias\n",
      "name2: - _blocks.15._se_expand.weight\n",
      "name2: - _blocks.15._se_expand.bias\n",
      "name2: - _blocks.15._project_conv.weight\n",
      "name2: - _blocks.15._bn2.weight\n",
      "name2: - _blocks.15._bn2.bias\n",
      "name2: - _conv_head.weight\n",
      "name2: - _bn1.weight\n",
      "name2: - _bn1.bias\n",
      "name2: - _fc.weight\n",
      "name2: - _fc.bias\n",
      "name1: - fc\n",
      "name2: - 2.weight\n"
     ]
    }
   ],
   "source": [
    "for name, child in model.named_children():\n",
    "    if name != '_fc' and name != '_swish':\n",
    "        print(\"name1: -\", name)\n",
    "#        child.requires_grad = False\n",
    "        for name2, params in child.named_parameters():\n",
    "            print(\"name2: -\", name2)\n",
    "#            params.requires_grad = False\n",
    "    else:\n",
    "        print(\"name1: +\", name)\n",
    "#        child.requires_grad = True\n",
    "        for name2, params in child.named_parameters():\n",
    "            print(\"name2: +\", name2)\n",
    "#            params.requires_grad = True\n"
   ]
  },
  {
   "cell_type": "code",
   "execution_count": 20,
   "metadata": {
    "scrolled": true
   },
   "outputs": [
    {
     "name": "stderr",
     "output_type": "stream",
     "text": [
      "100%|██████████| 22/22 [02:02<00:00,  5.57s/it]\n",
      "100%|██████████| 6/6 [00:15<00:00,  2.58s/it]\n"
     ]
    },
    {
     "name": "stdout",
     "output_type": "stream",
     "text": [
      "(1/1) tr_loss:1.5310 val_loss:1.6972, acc:0.1370, lr:1e-05\n",
      "(1/1) Получен минимальный loss: inf > 1.6971976558367412) \n",
      "(1/1) Получен максимальный acc: 0 < 0.136986301369863) \n"
     ]
    },
    {
     "name": "stderr",
     "output_type": "stream",
     "text": [
      "\r",
      "  0%|          | 0/22 [00:00<?, ?it/s]"
     ]
    },
    {
     "name": "stdout",
     "output_type": "stream",
     "text": [
      "LR is set to 1.9e-05\n"
     ]
    },
    {
     "name": "stderr",
     "output_type": "stream",
     "text": [
      "100%|██████████| 22/22 [02:02<00:00,  5.58s/it]\n",
      "100%|██████████| 6/6 [00:15<00:00,  2.59s/it]\n"
     ]
    },
    {
     "name": "stdout",
     "output_type": "stream",
     "text": [
      "(1/2) tr_loss:1.3798 val_loss:1.4549, acc:0.2247, lr:1.9e-05\n",
      "(1/2) Получен минимальный loss: 1.6971976558367412 > 1.4549285769462585) \n",
      "(1/2) Получен максимальный acc: 0.136986301369863 < 0.22465753424657534) \n"
     ]
    },
    {
     "name": "stderr",
     "output_type": "stream",
     "text": [
      "\r",
      "  0%|          | 0/22 [00:00<?, ?it/s]"
     ]
    },
    {
     "name": "stdout",
     "output_type": "stream",
     "text": [
      "LR is set to 2.8000000000000003e-05\n"
     ]
    },
    {
     "name": "stderr",
     "output_type": "stream",
     "text": [
      "100%|██████████| 22/22 [02:04<00:00,  5.64s/it]\n",
      "100%|██████████| 6/6 [00:15<00:00,  2.64s/it]\n"
     ]
    },
    {
     "name": "stdout",
     "output_type": "stream",
     "text": [
      "(1/3) tr_loss:1.2210 val_loss:1.1990, acc:0.5014, lr:2.8000000000000003e-05\n",
      "(1/3) Получен минимальный loss: 1.4549285769462585 > 1.1989817023277283) \n",
      "(1/3) Получен максимальный acc: 0.22465753424657534 < 0.5013698630136987) \n"
     ]
    },
    {
     "name": "stderr",
     "output_type": "stream",
     "text": [
      "\r",
      "  0%|          | 0/22 [00:00<?, ?it/s]"
     ]
    },
    {
     "name": "stdout",
     "output_type": "stream",
     "text": [
      "LR is set to 3.7e-05\n"
     ]
    },
    {
     "name": "stderr",
     "output_type": "stream",
     "text": [
      "100%|██████████| 22/22 [02:04<00:00,  5.67s/it]\n",
      "100%|██████████| 6/6 [00:15<00:00,  2.65s/it]\n"
     ]
    },
    {
     "name": "stdout",
     "output_type": "stream",
     "text": [
      "(1/4) tr_loss:1.0581 val_loss:0.9562, acc:0.6740, lr:3.7e-05\n",
      "(1/4) Получен минимальный loss: 1.1989817023277283 > 0.9562391142050425) \n",
      "(1/4) Получен максимальный acc: 0.5013698630136987 < 0.673972602739726) \n"
     ]
    },
    {
     "name": "stderr",
     "output_type": "stream",
     "text": [
      "\r",
      "  0%|          | 0/22 [00:00<?, ?it/s]"
     ]
    },
    {
     "name": "stdout",
     "output_type": "stream",
     "text": [
      "LR is set to 4.6e-05\n"
     ]
    },
    {
     "name": "stderr",
     "output_type": "stream",
     "text": [
      "100%|██████████| 22/22 [02:03<00:00,  5.61s/it]\n",
      "100%|██████████| 6/6 [00:15<00:00,  2.64s/it]\n"
     ]
    },
    {
     "name": "stdout",
     "output_type": "stream",
     "text": [
      "(1/5) tr_loss:0.8823 val_loss:0.7716, acc:0.7589, lr:4.6e-05\n",
      "(1/5) Получен минимальный loss: 0.9562391142050425 > 0.771559864282608) \n",
      "(1/5) Получен максимальный acc: 0.673972602739726 < 0.7589041095890411) \n"
     ]
    },
    {
     "name": "stderr",
     "output_type": "stream",
     "text": [
      "\r",
      "  0%|          | 0/22 [00:00<?, ?it/s]"
     ]
    },
    {
     "name": "stdout",
     "output_type": "stream",
     "text": [
      "LR is set to 5.5e-05\n"
     ]
    },
    {
     "name": "stderr",
     "output_type": "stream",
     "text": [
      "100%|██████████| 22/22 [02:03<00:00,  5.60s/it]\n",
      "100%|██████████| 6/6 [00:15<00:00,  2.64s/it]\n"
     ]
    },
    {
     "name": "stdout",
     "output_type": "stream",
     "text": [
      "(1/6) tr_loss:0.7056 val_loss:0.6475, acc:0.8082, lr:5.5e-05\n",
      "(1/6) Получен минимальный loss: 0.771559864282608 > 0.647494817773501) \n",
      "(1/6) Получен максимальный acc: 0.7589041095890411 < 0.8082191780821918) \n"
     ]
    },
    {
     "name": "stderr",
     "output_type": "stream",
     "text": [
      "\r",
      "  0%|          | 0/22 [00:00<?, ?it/s]"
     ]
    },
    {
     "name": "stdout",
     "output_type": "stream",
     "text": [
      "LR is set to 6.4e-05\n"
     ]
    },
    {
     "name": "stderr",
     "output_type": "stream",
     "text": [
      "100%|██████████| 22/22 [02:04<00:00,  5.64s/it]\n",
      "100%|██████████| 6/6 [00:15<00:00,  2.66s/it]\n"
     ]
    },
    {
     "name": "stdout",
     "output_type": "stream",
     "text": [
      "(1/7) tr_loss:0.5476 val_loss:0.6151, acc:0.8110, lr:6.4e-05\n",
      "(1/7) Получен минимальный loss: 0.647494817773501 > 0.6151108741760254) \n",
      "(1/7) Получен максимальный acc: 0.8082191780821918 < 0.810958904109589) \n"
     ]
    },
    {
     "name": "stderr",
     "output_type": "stream",
     "text": [
      "\r",
      "  0%|          | 0/22 [00:00<?, ?it/s]"
     ]
    },
    {
     "name": "stdout",
     "output_type": "stream",
     "text": [
      "LR is set to 7.3e-05\n"
     ]
    },
    {
     "name": "stderr",
     "output_type": "stream",
     "text": [
      "100%|██████████| 22/22 [02:04<00:00,  5.64s/it]\n",
      "100%|██████████| 6/6 [00:16<00:00,  2.67s/it]\n"
     ]
    },
    {
     "name": "stdout",
     "output_type": "stream",
     "text": [
      "(1/8) tr_loss:0.4702 val_loss:0.5445, acc:0.8384, lr:7.3e-05\n",
      "(1/8) Получен минимальный loss: 0.6151108741760254 > 0.5444727142651876) \n",
      "(1/8) Получен максимальный acc: 0.810958904109589 < 0.8383561643835616) \n"
     ]
    },
    {
     "name": "stderr",
     "output_type": "stream",
     "text": [
      "\r",
      "  0%|          | 0/22 [00:00<?, ?it/s]"
     ]
    },
    {
     "name": "stdout",
     "output_type": "stream",
     "text": [
      "LR is set to 8.2e-05\n"
     ]
    },
    {
     "name": "stderr",
     "output_type": "stream",
     "text": [
      "100%|██████████| 22/22 [02:03<00:00,  5.60s/it]\n",
      "100%|██████████| 6/6 [00:15<00:00,  2.66s/it]\n"
     ]
    },
    {
     "name": "stdout",
     "output_type": "stream",
     "text": [
      "(1/9) tr_loss:0.4140 val_loss:0.4614, acc:0.8575, lr:8.2e-05\n",
      "(1/9) Получен минимальный loss: 0.5444727142651876 > 0.46143631140391034) \n",
      "(1/9) Получен максимальный acc: 0.8383561643835616 < 0.8575342465753425) \n"
     ]
    },
    {
     "name": "stderr",
     "output_type": "stream",
     "text": [
      "\r",
      "  0%|          | 0/22 [00:00<?, ?it/s]"
     ]
    },
    {
     "name": "stdout",
     "output_type": "stream",
     "text": [
      "LR is set to 9.1e-05\n"
     ]
    },
    {
     "name": "stderr",
     "output_type": "stream",
     "text": [
      "100%|██████████| 22/22 [02:02<00:00,  5.58s/it]\n",
      "100%|██████████| 6/6 [00:15<00:00,  2.66s/it]\n"
     ]
    },
    {
     "name": "stdout",
     "output_type": "stream",
     "text": [
      "(1/10) tr_loss:0.3728 val_loss:0.3326, acc:0.8877, lr:9.1e-05\n",
      "(1/10) Получен минимальный loss: 0.46143631140391034 > 0.33261087785164517) \n",
      "(1/10) Получен максимальный acc: 0.8575342465753425 < 0.8876712328767123) \n"
     ]
    },
    {
     "name": "stderr",
     "output_type": "stream",
     "text": [
      "\r",
      "  0%|          | 0/22 [00:00<?, ?it/s]"
     ]
    },
    {
     "name": "stdout",
     "output_type": "stream",
     "text": [
      "LR is set to 0.0001\n"
     ]
    },
    {
     "name": "stderr",
     "output_type": "stream",
     "text": [
      "100%|██████████| 22/22 [02:05<00:00,  5.70s/it]\n",
      "100%|██████████| 6/6 [00:15<00:00,  2.65s/it]\n"
     ]
    },
    {
     "name": "stdout",
     "output_type": "stream",
     "text": [
      "(2/1) tr_loss:0.3394 val_loss:0.2302, acc:0.9176, lr:0.0001\n",
      "(2/1) Получен минимальный loss: 0.33261087785164517 > 0.23019455869992575) \n",
      "(2/1) Получен максимальный acc: 0.8876712328767123 < 0.9175824175824175) \n"
     ]
    },
    {
     "name": "stderr",
     "output_type": "stream",
     "text": [
      "\r",
      "  0%|          | 0/22 [00:00<?, ?it/s]"
     ]
    },
    {
     "name": "stdout",
     "output_type": "stream",
     "text": [
      "LR is set to 0.0001\n"
     ]
    },
    {
     "name": "stderr",
     "output_type": "stream",
     "text": [
      "100%|██████████| 22/22 [02:05<00:00,  5.69s/it]\n",
      "100%|██████████| 6/6 [00:15<00:00,  2.65s/it]\n"
     ]
    },
    {
     "name": "stdout",
     "output_type": "stream",
     "text": [
      "(2/2) tr_loss:0.3068 val_loss:0.2081, acc:0.9286, lr:0.0001\n",
      "(2/2) Получен минимальный loss: 0.23019455869992575 > 0.20806262269616127) \n",
      "(2/2) Получен максимальный acc: 0.9175824175824175 < 0.9285714285714286) \n"
     ]
    },
    {
     "name": "stderr",
     "output_type": "stream",
     "text": [
      "\r",
      "  0%|          | 0/22 [00:00<?, ?it/s]"
     ]
    },
    {
     "name": "stdout",
     "output_type": "stream",
     "text": [
      "LR is set to 0.0001\n"
     ]
    },
    {
     "name": "stderr",
     "output_type": "stream",
     "text": [
      "100%|██████████| 22/22 [02:02<00:00,  5.55s/it]\n",
      "100%|██████████| 6/6 [00:15<00:00,  2.65s/it]\n"
     ]
    },
    {
     "name": "stdout",
     "output_type": "stream",
     "text": [
      "(2/3) tr_loss:0.2699 val_loss:0.1717, acc:0.9396, lr:0.0001\n",
      "(2/3) Получен минимальный loss: 0.20806262269616127 > 0.17172934984167418) \n",
      "(2/3) Получен максимальный acc: 0.9285714285714286 < 0.9395604395604396) \n"
     ]
    },
    {
     "name": "stderr",
     "output_type": "stream",
     "text": [
      "\r",
      "  0%|          | 0/22 [00:00<?, ?it/s]"
     ]
    },
    {
     "name": "stdout",
     "output_type": "stream",
     "text": [
      "LR is set to 0.0001\n"
     ]
    },
    {
     "name": "stderr",
     "output_type": "stream",
     "text": [
      "100%|██████████| 22/22 [02:04<00:00,  5.64s/it]\n",
      "100%|██████████| 6/6 [00:15<00:00,  2.66s/it]\n"
     ]
    },
    {
     "name": "stdout",
     "output_type": "stream",
     "text": [
      "(2/4) tr_loss:0.2870 val_loss:0.1766, acc:0.9451, lr:0.0001\n",
      "(2/4) Получен максимальный acc: 0.9395604395604396 < 0.945054945054945) \n"
     ]
    },
    {
     "name": "stderr",
     "output_type": "stream",
     "text": [
      "\r",
      "  0%|          | 0/22 [00:00<?, ?it/s]"
     ]
    },
    {
     "name": "stdout",
     "output_type": "stream",
     "text": [
      "LR is set to 8.1e-05\n"
     ]
    },
    {
     "name": "stderr",
     "output_type": "stream",
     "text": [
      "100%|██████████| 22/22 [02:04<00:00,  5.65s/it]\n",
      "100%|██████████| 6/6 [00:15<00:00,  2.66s/it]\n"
     ]
    },
    {
     "name": "stdout",
     "output_type": "stream",
     "text": [
      "(2/5) tr_loss:0.2645 val_loss:0.1759, acc:0.9451, lr:8.1e-05\n"
     ]
    },
    {
     "name": "stderr",
     "output_type": "stream",
     "text": [
      "\r",
      "  0%|          | 0/22 [00:00<?, ?it/s]"
     ]
    },
    {
     "name": "stdout",
     "output_type": "stream",
     "text": [
      "LR is set to 6.580000000000001e-05\n"
     ]
    },
    {
     "name": "stderr",
     "output_type": "stream",
     "text": [
      "100%|██████████| 22/22 [02:05<00:00,  5.70s/it]\n",
      "100%|██████████| 6/6 [00:15<00:00,  2.66s/it]\n"
     ]
    },
    {
     "name": "stdout",
     "output_type": "stream",
     "text": [
      "(2/6) tr_loss:0.2452 val_loss:0.1758, acc:0.9505, lr:6.580000000000001e-05\n",
      "(2/6) Получен максимальный acc: 0.945054945054945 < 0.9505494505494505) \n"
     ]
    },
    {
     "name": "stderr",
     "output_type": "stream",
     "text": [
      "\r",
      "  0%|          | 0/22 [00:00<?, ?it/s]"
     ]
    },
    {
     "name": "stdout",
     "output_type": "stream",
     "text": [
      "LR is set to 5.3640000000000015e-05\n"
     ]
    },
    {
     "name": "stderr",
     "output_type": "stream",
     "text": [
      "100%|██████████| 22/22 [02:05<00:00,  5.72s/it]\n",
      "100%|██████████| 6/6 [00:15<00:00,  2.64s/it]\n"
     ]
    },
    {
     "name": "stdout",
     "output_type": "stream",
     "text": [
      "(2/7) tr_loss:0.2173 val_loss:0.1656, acc:0.9505, lr:5.3640000000000015e-05\n",
      "(2/7) Получен минимальный loss: 0.17172934984167418 > 0.16557214905818304) \n"
     ]
    },
    {
     "name": "stderr",
     "output_type": "stream",
     "text": [
      "\r",
      "  0%|          | 0/22 [00:00<?, ?it/s]"
     ]
    },
    {
     "name": "stdout",
     "output_type": "stream",
     "text": [
      "LR is set to 4.391200000000001e-05\n"
     ]
    },
    {
     "name": "stderr",
     "output_type": "stream",
     "text": [
      "100%|██████████| 22/22 [02:02<00:00,  5.59s/it]\n",
      "100%|██████████| 6/6 [00:15<00:00,  2.64s/it]\n"
     ]
    },
    {
     "name": "stdout",
     "output_type": "stream",
     "text": [
      "(2/8) tr_loss:0.2440 val_loss:0.1740, acc:0.9478, lr:4.391200000000001e-05\n"
     ]
    },
    {
     "name": "stderr",
     "output_type": "stream",
     "text": [
      "\r",
      "  0%|          | 0/22 [00:00<?, ?it/s]"
     ]
    },
    {
     "name": "stdout",
     "output_type": "stream",
     "text": [
      "LR is set to 3.612960000000001e-05\n"
     ]
    },
    {
     "name": "stderr",
     "output_type": "stream",
     "text": [
      "100%|██████████| 22/22 [02:03<00:00,  5.60s/it]\n",
      "100%|██████████| 6/6 [00:15<00:00,  2.65s/it]\n"
     ]
    },
    {
     "name": "stdout",
     "output_type": "stream",
     "text": [
      "(2/9) tr_loss:0.2514 val_loss:0.1763, acc:0.9533, lr:3.612960000000001e-05\n",
      "(2/9) Получен максимальный acc: 0.9505494505494505 < 0.9532967032967034) \n"
     ]
    },
    {
     "name": "stderr",
     "output_type": "stream",
     "text": [
      "\r",
      "  0%|          | 0/22 [00:00<?, ?it/s]"
     ]
    },
    {
     "name": "stdout",
     "output_type": "stream",
     "text": [
      "LR is set to 2.9903680000000012e-05\n"
     ]
    },
    {
     "name": "stderr",
     "output_type": "stream",
     "text": [
      "100%|██████████| 22/22 [02:04<00:00,  5.65s/it]\n",
      "100%|██████████| 6/6 [00:15<00:00,  2.66s/it]\n"
     ]
    },
    {
     "name": "stdout",
     "output_type": "stream",
     "text": [
      "(2/10) tr_loss:0.2272 val_loss:0.1769, acc:0.9505, lr:2.9903680000000012e-05\n"
     ]
    },
    {
     "name": "stderr",
     "output_type": "stream",
     "text": [
      "\r",
      "  0%|          | 0/22 [00:00<?, ?it/s]"
     ]
    },
    {
     "name": "stdout",
     "output_type": "stream",
     "text": [
      "LR is set to 2.492294400000001e-05\n"
     ]
    },
    {
     "name": "stderr",
     "output_type": "stream",
     "text": [
      "100%|██████████| 22/22 [02:03<00:00,  5.60s/it]\n",
      "100%|██████████| 6/6 [00:16<00:00,  2.67s/it]\n"
     ]
    },
    {
     "name": "stdout",
     "output_type": "stream",
     "text": [
      "(3/1) tr_loss:0.2595 val_loss:0.1417, acc:0.9478, lr:2.492294400000001e-05\n",
      "(3/1) Получен минимальный loss: 0.16557214905818304 > 0.1416640281677246) \n"
     ]
    },
    {
     "name": "stderr",
     "output_type": "stream",
     "text": [
      "\r",
      "  0%|          | 0/22 [00:00<?, ?it/s]"
     ]
    },
    {
     "name": "stdout",
     "output_type": "stream",
     "text": [
      "LR is set to 2.093835520000001e-05\n"
     ]
    },
    {
     "name": "stderr",
     "output_type": "stream",
     "text": [
      "100%|██████████| 22/22 [02:05<00:00,  5.70s/it]\n",
      "100%|██████████| 6/6 [00:16<00:00,  2.69s/it]\n"
     ]
    },
    {
     "name": "stdout",
     "output_type": "stream",
     "text": [
      "(3/2) tr_loss:0.2638 val_loss:0.1391, acc:0.9505, lr:2.093835520000001e-05\n",
      "(3/2) Получен минимальный loss: 0.1416640281677246 > 0.13908939560254416) \n"
     ]
    },
    {
     "name": "stderr",
     "output_type": "stream",
     "text": [
      "\r",
      "  0%|          | 0/22 [00:00<?, ?it/s]"
     ]
    },
    {
     "name": "stdout",
     "output_type": "stream",
     "text": [
      "LR is set to 1.7750684160000006e-05\n"
     ]
    },
    {
     "name": "stderr",
     "output_type": "stream",
     "text": [
      "100%|██████████| 22/22 [02:06<00:00,  5.75s/it]\n",
      "100%|██████████| 6/6 [00:16<00:00,  2.67s/it]\n"
     ]
    },
    {
     "name": "stdout",
     "output_type": "stream",
     "text": [
      "(3/3) tr_loss:0.2283 val_loss:0.1391, acc:0.9451, lr:1.7750684160000006e-05\n"
     ]
    },
    {
     "name": "stderr",
     "output_type": "stream",
     "text": [
      "\r",
      "  0%|          | 0/22 [00:00<?, ?it/s]"
     ]
    },
    {
     "name": "stdout",
     "output_type": "stream",
     "text": [
      "LR is set to 1.5200547328000007e-05\n"
     ]
    },
    {
     "name": "stderr",
     "output_type": "stream",
     "text": [
      "100%|██████████| 22/22 [02:03<00:00,  5.61s/it]\n",
      "100%|██████████| 6/6 [00:15<00:00,  2.66s/it]\n"
     ]
    },
    {
     "name": "stdout",
     "output_type": "stream",
     "text": [
      "(3/4) tr_loss:0.2383 val_loss:0.1403, acc:0.9451, lr:1.5200547328000007e-05\n"
     ]
    },
    {
     "name": "stderr",
     "output_type": "stream",
     "text": [
      "\r",
      "  0%|          | 0/22 [00:00<?, ?it/s]"
     ]
    },
    {
     "name": "stdout",
     "output_type": "stream",
     "text": [
      "LR is set to 1.3160437862400007e-05\n"
     ]
    },
    {
     "name": "stderr",
     "output_type": "stream",
     "text": [
      "100%|██████████| 22/22 [02:04<00:00,  5.67s/it]\n",
      "100%|██████████| 6/6 [00:15<00:00,  2.66s/it]\n"
     ]
    },
    {
     "name": "stdout",
     "output_type": "stream",
     "text": [
      "(3/5) tr_loss:0.2347 val_loss:0.1396, acc:0.9505, lr:1.3160437862400007e-05\n"
     ]
    },
    {
     "name": "stderr",
     "output_type": "stream",
     "text": [
      "\r",
      "  0%|          | 0/22 [00:00<?, ?it/s]"
     ]
    },
    {
     "name": "stdout",
     "output_type": "stream",
     "text": [
      "LR is set to 1.1528350289920004e-05\n"
     ]
    },
    {
     "name": "stderr",
     "output_type": "stream",
     "text": [
      "100%|██████████| 22/22 [02:04<00:00,  5.68s/it]\n",
      "100%|██████████| 6/6 [00:16<00:00,  2.68s/it]\n"
     ]
    },
    {
     "name": "stdout",
     "output_type": "stream",
     "text": [
      "(3/6) tr_loss:0.2339 val_loss:0.1399, acc:0.9533, lr:1.1528350289920004e-05\n"
     ]
    },
    {
     "name": "stderr",
     "output_type": "stream",
     "text": [
      "\r",
      "  0%|          | 0/22 [00:00<?, ?it/s]"
     ]
    },
    {
     "name": "stdout",
     "output_type": "stream",
     "text": [
      "LR is set to 1.0222680231936003e-05\n"
     ]
    },
    {
     "name": "stderr",
     "output_type": "stream",
     "text": [
      "100%|██████████| 22/22 [02:02<00:00,  5.58s/it]\n",
      "100%|██████████| 6/6 [00:16<00:00,  2.67s/it]\n"
     ]
    },
    {
     "name": "stdout",
     "output_type": "stream",
     "text": [
      "(3/7) tr_loss:0.2218 val_loss:0.1413, acc:0.9505, lr:1.0222680231936003e-05\n"
     ]
    },
    {
     "name": "stderr",
     "output_type": "stream",
     "text": [
      "\r",
      "  0%|          | 0/22 [00:00<?, ?it/s]"
     ]
    },
    {
     "name": "stdout",
     "output_type": "stream",
     "text": [
      "LR is set to 9.178144185548804e-06\n"
     ]
    },
    {
     "name": "stderr",
     "output_type": "stream",
     "text": [
      "100%|██████████| 22/22 [02:04<00:00,  5.65s/it]\n",
      "100%|██████████| 6/6 [00:16<00:00,  2.70s/it]\n"
     ]
    },
    {
     "name": "stdout",
     "output_type": "stream",
     "text": [
      "(3/8) tr_loss:0.2057 val_loss:0.1428, acc:0.9505, lr:9.178144185548804e-06\n"
     ]
    },
    {
     "name": "stderr",
     "output_type": "stream",
     "text": [
      "\r",
      "  0%|          | 0/22 [00:00<?, ?it/s]"
     ]
    },
    {
     "name": "stdout",
     "output_type": "stream",
     "text": [
      "LR is set to 8.342515348439044e-06\n"
     ]
    },
    {
     "name": "stderr",
     "output_type": "stream",
     "text": [
      "100%|██████████| 22/22 [02:02<00:00,  5.57s/it]\n",
      "100%|██████████| 6/6 [00:16<00:00,  2.67s/it]\n"
     ]
    },
    {
     "name": "stdout",
     "output_type": "stream",
     "text": [
      "(3/9) tr_loss:0.2413 val_loss:0.1442, acc:0.9505, lr:8.342515348439044e-06\n"
     ]
    },
    {
     "name": "stderr",
     "output_type": "stream",
     "text": [
      "\r",
      "  0%|          | 0/22 [00:00<?, ?it/s]"
     ]
    },
    {
     "name": "stdout",
     "output_type": "stream",
     "text": [
      "LR is set to 7.674012278751236e-06\n"
     ]
    },
    {
     "name": "stderr",
     "output_type": "stream",
     "text": [
      "100%|██████████| 22/22 [02:05<00:00,  5.72s/it]\n",
      "100%|██████████| 6/6 [00:15<00:00,  2.67s/it]\n"
     ]
    },
    {
     "name": "stdout",
     "output_type": "stream",
     "text": [
      "(3/10) tr_loss:0.2173 val_loss:0.1443, acc:0.9505, lr:7.674012278751236e-06\n"
     ]
    },
    {
     "name": "stderr",
     "output_type": "stream",
     "text": [
      "\r",
      "  0%|          | 0/22 [00:00<?, ?it/s]"
     ]
    },
    {
     "name": "stdout",
     "output_type": "stream",
     "text": [
      "LR is set to 7.139209823000988e-06\n"
     ]
    },
    {
     "name": "stderr",
     "output_type": "stream",
     "text": [
      "100%|██████████| 22/22 [02:04<00:00,  5.64s/it]\n",
      "100%|██████████| 6/6 [00:15<00:00,  2.65s/it]\n"
     ]
    },
    {
     "name": "stdout",
     "output_type": "stream",
     "text": [
      "(4/1) tr_loss:0.2120 val_loss:0.0851, acc:0.9588, lr:7.139209823000988e-06\n",
      "(4/1) Получен минимальный loss: 0.13908939560254416 > 0.08511879295110703) \n",
      "(4/1) Получен максимальный acc: 0.9532967032967034 < 0.9587912087912088) \n"
     ]
    },
    {
     "name": "stderr",
     "output_type": "stream",
     "text": [
      "\r",
      "  0%|          | 0/22 [00:00<?, ?it/s]"
     ]
    },
    {
     "name": "stdout",
     "output_type": "stream",
     "text": [
      "LR is set to 6.7113678584007905e-06\n"
     ]
    },
    {
     "name": "stderr",
     "output_type": "stream",
     "text": [
      "100%|██████████| 22/22 [02:03<00:00,  5.63s/it]\n",
      "100%|██████████| 6/6 [00:15<00:00,  2.66s/it]\n"
     ]
    },
    {
     "name": "stdout",
     "output_type": "stream",
     "text": [
      "(4/2) tr_loss:0.2276 val_loss:0.0854, acc:0.9588, lr:6.7113678584007905e-06\n"
     ]
    },
    {
     "name": "stderr",
     "output_type": "stream",
     "text": [
      "\r",
      "  0%|          | 0/22 [00:00<?, ?it/s]"
     ]
    },
    {
     "name": "stdout",
     "output_type": "stream",
     "text": [
      "LR is set to 6.369094286720632e-06\n"
     ]
    },
    {
     "name": "stderr",
     "output_type": "stream",
     "text": [
      "100%|██████████| 22/22 [02:02<00:00,  5.55s/it]\n",
      "100%|██████████| 6/6 [00:15<00:00,  2.65s/it]\n"
     ]
    },
    {
     "name": "stdout",
     "output_type": "stream",
     "text": [
      "(4/3) tr_loss:0.2404 val_loss:0.0861, acc:0.9588, lr:6.369094286720632e-06\n"
     ]
    },
    {
     "name": "stderr",
     "output_type": "stream",
     "text": [
      "\r",
      "  0%|          | 0/22 [00:00<?, ?it/s]"
     ]
    },
    {
     "name": "stdout",
     "output_type": "stream",
     "text": [
      "LR is set to 6.095275429376507e-06\n"
     ]
    },
    {
     "name": "stderr",
     "output_type": "stream",
     "text": [
      "100%|██████████| 22/22 [01:59<00:00,  5.45s/it]\n",
      "100%|██████████| 6/6 [00:15<00:00,  2.59s/it]\n"
     ]
    },
    {
     "name": "stdout",
     "output_type": "stream",
     "text": [
      "(4/4) tr_loss:0.2370 val_loss:0.0856, acc:0.9588, lr:6.095275429376507e-06\n"
     ]
    },
    {
     "name": "stderr",
     "output_type": "stream",
     "text": [
      "\r",
      "  0%|          | 0/22 [00:00<?, ?it/s]"
     ]
    },
    {
     "name": "stdout",
     "output_type": "stream",
     "text": [
      "LR is set to 5.876220343501205e-06\n"
     ]
    },
    {
     "name": "stderr",
     "output_type": "stream",
     "text": [
      "100%|██████████| 22/22 [02:02<00:00,  5.57s/it]\n",
      "100%|██████████| 6/6 [00:15<00:00,  2.64s/it]\n"
     ]
    },
    {
     "name": "stdout",
     "output_type": "stream",
     "text": [
      "(4/5) tr_loss:0.2316 val_loss:0.0861, acc:0.9588, lr:5.876220343501205e-06\n"
     ]
    },
    {
     "name": "stderr",
     "output_type": "stream",
     "text": [
      "\r",
      "  0%|          | 0/22 [00:00<?, ?it/s]"
     ]
    },
    {
     "name": "stdout",
     "output_type": "stream",
     "text": [
      "LR is set to 5.700976274800964e-06\n"
     ]
    },
    {
     "name": "stderr",
     "output_type": "stream",
     "text": [
      "100%|██████████| 22/22 [02:02<00:00,  5.56s/it]\n",
      "100%|██████████| 6/6 [00:15<00:00,  2.59s/it]\n"
     ]
    },
    {
     "name": "stdout",
     "output_type": "stream",
     "text": [
      "(4/6) tr_loss:0.2414 val_loss:0.0866, acc:0.9588, lr:5.700976274800964e-06\n"
     ]
    },
    {
     "name": "stderr",
     "output_type": "stream",
     "text": [
      "\r",
      "  0%|          | 0/22 [00:00<?, ?it/s]"
     ]
    },
    {
     "name": "stdout",
     "output_type": "stream",
     "text": [
      "LR is set to 5.560781019840772e-06\n"
     ]
    },
    {
     "name": "stderr",
     "output_type": "stream",
     "text": [
      "100%|██████████| 22/22 [02:02<00:00,  5.58s/it]\n",
      "100%|██████████| 6/6 [00:15<00:00,  2.61s/it]\n"
     ]
    },
    {
     "name": "stdout",
     "output_type": "stream",
     "text": [
      "(4/7) tr_loss:0.2258 val_loss:0.0866, acc:0.9588, lr:5.560781019840772e-06\n"
     ]
    },
    {
     "name": "stderr",
     "output_type": "stream",
     "text": [
      "\r",
      "  0%|          | 0/22 [00:00<?, ?it/s]"
     ]
    },
    {
     "name": "stdout",
     "output_type": "stream",
     "text": [
      "LR is set to 5.448624815872617e-06\n"
     ]
    },
    {
     "name": "stderr",
     "output_type": "stream",
     "text": [
      "100%|██████████| 22/22 [02:02<00:00,  5.58s/it]\n",
      "100%|██████████| 6/6 [00:15<00:00,  2.60s/it]\n"
     ]
    },
    {
     "name": "stdout",
     "output_type": "stream",
     "text": [
      "(4/8) tr_loss:0.2217 val_loss:0.0860, acc:0.9588, lr:5.448624815872617e-06\n"
     ]
    },
    {
     "name": "stderr",
     "output_type": "stream",
     "text": [
      "\r",
      "  0%|          | 0/22 [00:00<?, ?it/s]"
     ]
    },
    {
     "name": "stdout",
     "output_type": "stream",
     "text": [
      "LR is set to 5.358899852698094e-06\n"
     ]
    },
    {
     "name": "stderr",
     "output_type": "stream",
     "text": [
      "100%|██████████| 22/22 [02:00<00:00,  5.47s/it]\n",
      "100%|██████████| 6/6 [00:15<00:00,  2.61s/it]\n"
     ]
    },
    {
     "name": "stdout",
     "output_type": "stream",
     "text": [
      "(4/9) tr_loss:0.2068 val_loss:0.0855, acc:0.9588, lr:5.358899852698094e-06\n"
     ]
    },
    {
     "name": "stderr",
     "output_type": "stream",
     "text": [
      "\r",
      "  0%|          | 0/22 [00:00<?, ?it/s]"
     ]
    },
    {
     "name": "stdout",
     "output_type": "stream",
     "text": [
      "LR is set to 5.287119882158475e-06\n"
     ]
    },
    {
     "name": "stderr",
     "output_type": "stream",
     "text": [
      "100%|██████████| 22/22 [02:01<00:00,  5.53s/it]\n",
      "100%|██████████| 6/6 [00:15<00:00,  2.59s/it]\n"
     ]
    },
    {
     "name": "stdout",
     "output_type": "stream",
     "text": [
      "(4/10) tr_loss:0.2249 val_loss:0.0852, acc:0.9560, lr:5.287119882158475e-06\n"
     ]
    },
    {
     "name": "stderr",
     "output_type": "stream",
     "text": [
      "\r",
      "  0%|          | 0/22 [00:00<?, ?it/s]"
     ]
    },
    {
     "name": "stdout",
     "output_type": "stream",
     "text": [
      "LR is set to 5.2296959057267805e-06\n"
     ]
    },
    {
     "name": "stderr",
     "output_type": "stream",
     "text": [
      "100%|██████████| 22/22 [02:02<00:00,  5.56s/it]\n",
      "100%|██████████| 6/6 [00:15<00:00,  2.59s/it]\n"
     ]
    },
    {
     "name": "stdout",
     "output_type": "stream",
     "text": [
      "(5/1) tr_loss:0.2287 val_loss:0.0869, acc:0.9753, lr:5.2296959057267805e-06\n",
      "(5/1) Получен максимальный acc: 0.9587912087912088 < 0.9752747252747253) \n"
     ]
    },
    {
     "name": "stderr",
     "output_type": "stream",
     "text": [
      "\r",
      "  0%|          | 0/22 [00:00<?, ?it/s]"
     ]
    },
    {
     "name": "stdout",
     "output_type": "stream",
     "text": [
      "LR is set to 5.183756724581424e-06\n"
     ]
    },
    {
     "name": "stderr",
     "output_type": "stream",
     "text": [
      "100%|██████████| 22/22 [02:01<00:00,  5.52s/it]\n",
      "100%|██████████| 6/6 [00:15<00:00,  2.61s/it]\n"
     ]
    },
    {
     "name": "stdout",
     "output_type": "stream",
     "text": [
      "(5/2) tr_loss:0.2205 val_loss:0.0865, acc:0.9753, lr:5.183756724581424e-06\n"
     ]
    },
    {
     "name": "stderr",
     "output_type": "stream",
     "text": [
      "\r",
      "  0%|          | 0/22 [00:00<?, ?it/s]"
     ]
    },
    {
     "name": "stdout",
     "output_type": "stream",
     "text": [
      "LR is set to 5.1470053796651396e-06\n"
     ]
    },
    {
     "name": "stderr",
     "output_type": "stream",
     "text": [
      "100%|██████████| 22/22 [01:46<00:00,  4.83s/it]\n",
      "100%|██████████| 6/6 [00:11<00:00,  1.96s/it]\n"
     ]
    },
    {
     "name": "stdout",
     "output_type": "stream",
     "text": [
      "(5/3) tr_loss:0.2085 val_loss:0.0878, acc:0.9725, lr:5.1470053796651396e-06\n"
     ]
    },
    {
     "name": "stderr",
     "output_type": "stream",
     "text": [
      "\r",
      "  0%|          | 0/22 [00:00<?, ?it/s]"
     ]
    },
    {
     "name": "stdout",
     "output_type": "stream",
     "text": [
      "LR is set to 5.117604303732112e-06\n"
     ]
    },
    {
     "name": "stderr",
     "output_type": "stream",
     "text": [
      "100%|██████████| 22/22 [02:02<00:00,  5.57s/it]\n",
      "100%|██████████| 6/6 [00:15<00:00,  2.61s/it]\n"
     ]
    },
    {
     "name": "stdout",
     "output_type": "stream",
     "text": [
      "(5/4) tr_loss:0.2221 val_loss:0.0884, acc:0.9753, lr:5.117604303732112e-06\n"
     ]
    },
    {
     "name": "stderr",
     "output_type": "stream",
     "text": [
      "\r",
      "  0%|          | 0/22 [00:00<?, ?it/s]"
     ]
    },
    {
     "name": "stdout",
     "output_type": "stream",
     "text": [
      "LR is set to 5.09408344298569e-06\n"
     ]
    },
    {
     "name": "stderr",
     "output_type": "stream",
     "text": [
      "100%|██████████| 22/22 [02:00<00:00,  5.49s/it]\n",
      "100%|██████████| 6/6 [00:15<00:00,  2.64s/it]\n"
     ]
    },
    {
     "name": "stdout",
     "output_type": "stream",
     "text": [
      "(5/5) tr_loss:0.2248 val_loss:0.0878, acc:0.9753, lr:5.09408344298569e-06\n"
     ]
    },
    {
     "name": "stderr",
     "output_type": "stream",
     "text": [
      "\r",
      "  0%|          | 0/22 [00:00<?, ?it/s]"
     ]
    },
    {
     "name": "stdout",
     "output_type": "stream",
     "text": [
      "LR is set to 5.075266754388552e-06\n"
     ]
    },
    {
     "name": "stderr",
     "output_type": "stream",
     "text": [
      "100%|██████████| 22/22 [02:02<00:00,  5.56s/it]\n",
      "100%|██████████| 6/6 [00:15<00:00,  2.67s/it]\n"
     ]
    },
    {
     "name": "stdout",
     "output_type": "stream",
     "text": [
      "(5/6) tr_loss:0.2155 val_loss:0.0886, acc:0.9753, lr:5.075266754388552e-06\n"
     ]
    },
    {
     "name": "stderr",
     "output_type": "stream",
     "text": [
      "\r",
      "  0%|          | 0/22 [00:00<?, ?it/s]"
     ]
    },
    {
     "name": "stdout",
     "output_type": "stream",
     "text": [
      "LR is set to 5.060213403510841e-06\n"
     ]
    },
    {
     "name": "stderr",
     "output_type": "stream",
     "text": [
      "100%|██████████| 22/22 [02:05<00:00,  5.72s/it]\n",
      "100%|██████████| 6/6 [00:15<00:00,  2.65s/it]\n"
     ]
    },
    {
     "name": "stdout",
     "output_type": "stream",
     "text": [
      "(5/7) tr_loss:0.2102 val_loss:0.0885, acc:0.9725, lr:5.060213403510841e-06\n"
     ]
    },
    {
     "name": "stderr",
     "output_type": "stream",
     "text": [
      "\r",
      "  0%|          | 0/22 [00:00<?, ?it/s]"
     ]
    },
    {
     "name": "stdout",
     "output_type": "stream",
     "text": [
      "LR is set to 5.048170722808673e-06\n"
     ]
    },
    {
     "name": "stderr",
     "output_type": "stream",
     "text": [
      "100%|██████████| 22/22 [02:03<00:00,  5.62s/it]\n",
      "100%|██████████| 6/6 [00:16<00:00,  2.71s/it]\n"
     ]
    },
    {
     "name": "stdout",
     "output_type": "stream",
     "text": [
      "(5/8) tr_loss:0.2307 val_loss:0.0885, acc:0.9725, lr:5.048170722808673e-06\n"
     ]
    },
    {
     "name": "stderr",
     "output_type": "stream",
     "text": [
      "\r",
      "  0%|          | 0/22 [00:00<?, ?it/s]"
     ]
    },
    {
     "name": "stdout",
     "output_type": "stream",
     "text": [
      "LR is set to 5.0385365782469385e-06\n"
     ]
    },
    {
     "name": "stderr",
     "output_type": "stream",
     "text": [
      "100%|██████████| 22/22 [02:06<00:00,  5.74s/it]\n",
      "100%|██████████| 6/6 [00:16<00:00,  2.68s/it]\n"
     ]
    },
    {
     "name": "stdout",
     "output_type": "stream",
     "text": [
      "(5/9) tr_loss:0.2160 val_loss:0.0901, acc:0.9725, lr:5.0385365782469385e-06\n"
     ]
    },
    {
     "name": "stderr",
     "output_type": "stream",
     "text": [
      "\r",
      "  0%|          | 0/22 [00:00<?, ?it/s]"
     ]
    },
    {
     "name": "stdout",
     "output_type": "stream",
     "text": [
      "LR is set to 5.030829262597551e-06\n"
     ]
    },
    {
     "name": "stderr",
     "output_type": "stream",
     "text": [
      "100%|██████████| 22/22 [02:03<00:00,  5.61s/it]\n",
      "100%|██████████| 6/6 [00:16<00:00,  2.73s/it]\n"
     ]
    },
    {
     "name": "stdout",
     "output_type": "stream",
     "text": [
      "(5/10) tr_loss:0.2173 val_loss:0.0892, acc:0.9753, lr:5.030829262597551e-06\n",
      "LR is set to 5.024663410078041e-06\n"
     ]
    }
   ],
   "source": [
    "logging.info('Запуск тренировки')\n",
    "\n",
    "folds = StratifiedKFold(n_splits=FOLD_COUNT, shuffle=True, random_state=SEED)\n",
    "\n",
    "if CONT_TRAIN or RESTORE_TRAIN:\n",
    "    min_val_loss = a_val_loss[-1]\n",
    "    max_val_acc = a_acc_[-1]\n",
    "    logging.info('Восстановление min_val_loss:{}'.format(min_val_loss))\n",
    "    print('Восстановление min_val_loss:{}'.format(min_val_loss))\n",
    "else:\n",
    "    min_val_loss = math.inf\n",
    "    max_val_acc = 0\n",
    "\n",
    "\n",
    "train_y = train_df.drop(axis=1, columns='image_id').values\n",
    "train_y = train_y[:, 1] + train_y[:, 2] * 2 + train_y[:, 3] * 3\n",
    "for i_fold, (train_idx, valid_idx) in enumerate(folds.split(train_df, train_y)):\n",
    "    train_data = train_df.loc[train_idx]\n",
    "    valid_data = train_df.loc[valid_idx]\n",
    "\n",
    "    trainset = digitDataset(train_data, transform=train_transform)\n",
    "    validset = digitDataset(valid_data, transform=test_transform)\n",
    "\n",
    "    train_loader = torch.utils.data.DataLoader(trainset, \n",
    "                                           batch_size = BATCH_SIZE,\n",
    "                                           drop_last=True,\n",
    "                                           shuffle = True)\n",
    "    valid_loader = torch.utils.data.DataLoader(validset, \n",
    "                                          batch_size = BATCH_SIZE, \n",
    "                                          shuffle = False)\n",
    "    \n",
    "    for epoch in range(EPOCH_COUNT):\n",
    "        if RESTORE_TRAIN:\n",
    "            if i_fold < c_i_fold or (i_fold == c_i_fold and epoch <= c_epoch):\n",
    "                logging.info('Пропускаем i_fold:{} epoch:{}'.format(i_fold+1, epoch+1))\n",
    "                print('Пропускаем i_fold:{} epoch:{}'.format(i_fold+1, epoch+1))\n",
    "                continue\n",
    "        else:\n",
    "            #scheduler - перед тренировкой задаем lr зависящий от \"эпохи\"\n",
    "            #optimizer = exp_lr_scheduler(optimizer, i_fold*EPOCH_COUNT+epoch)\n",
    "\n",
    "            logging.info('({}/{}) Запуск эпохи тренировки'.format(i_fold+1, epoch+1))\n",
    "            tr_loss, tr_acc = train(model, train_loader, criterion, optimizer, show_first=False)\n",
    "            logging.info('({}/{}) Запуск эпохи валидации'.format(i_fold+1, epoch+1))\n",
    "            val_loss, acc = valid(model, valid_loader, criterion, optimizer)\n",
    "\n",
    "            lrs = [p['lr'] for p in optimizer.param_groups]\n",
    "\n",
    "            logging.info('({}/{}) tr_loss:{:.4f} val_loss:{:.4f}, acc:{:.4f}, lr:{}'.format(i_fold+1, epoch+1, tr_loss, val_loss, acc, lrs[0]))\n",
    "            print('({}/{}) tr_loss:{:.4f} val_loss:{:.4f}, acc:{:.4f}, lr:{}'.format(i_fold+1, epoch+1, tr_loss, val_loss, acc, lrs[0]))\n",
    "\n",
    "            a_tr_loss.append(tr_loss)\n",
    "            a_val_loss.append(val_loss)\n",
    "            a_tr_acc.append(tr_acc)\n",
    "            a_acc.append(acc)\n",
    "\n",
    "            if min_val_loss > val_loss:\n",
    "                logging.info('({}/{}) Получен минимальный loss: {} > {}) '.format(i_fold+1, epoch+1, min_val_loss, val_loss))\n",
    "                print ('({}/{}) Получен минимальный loss: {} > {}) '.format(i_fold+1, epoch+1, min_val_loss, val_loss))\n",
    "                min_val_loss = val_loss\n",
    "                logging.info('Запись модели: {}_loss_model.pt'.format(NAME))\n",
    "                torch.save({'model_state_dict': model.state_dict(),\n",
    "                            'optimizer_state_dict': optimizer.state_dict(),\n",
    "                            'i_fold': i_fold,\n",
    "                            'epoch': epoch,\n",
    "                            'tr_loss': a_tr_loss,\n",
    "                            'val_loss': a_val_loss,\n",
    "                            'tr_acc': a_tr_acc,\n",
    "                            'acc': a_acc,\n",
    "                            'lr': lrs[0],\n",
    "                            'ver': VER\n",
    "                        },\n",
    "                        '{}_loss_model.pt'.format(NAME),\n",
    "                       )\n",
    "\n",
    "            if max_val_acc < acc:\n",
    "                logging.info('({}/{}) Получен максимальный acc: {} < {}) '.format(i_fold+1, epoch+1, max_val_acc, acc))\n",
    "                print ('({}/{}) Получен максимальный acc: {} < {}) '.format(i_fold+1, epoch+1, max_val_acc, acc))\n",
    "                max_val_acc = acc\n",
    "                logging.info('Запись модели: {}_acc_model.pt'.format(NAME))\n",
    "                torch.save({'model_state_dict': model.state_dict(),\n",
    "                            'optimizer_state_dict': optimizer.state_dict(),\n",
    "                            'i_fold': i_fold,\n",
    "                            'epoch': epoch,\n",
    "                            'tr_loss': a_tr_loss,\n",
    "                            'val_loss': a_val_loss,\n",
    "                            'tr_acc': a_tr_acc,\n",
    "                            'acc': a_acc,\n",
    "                            'lr': lrs[0],\n",
    "                            'ver': VER\n",
    "                        },\n",
    "                        '{}_acc_model.pt'.format(NAME),\n",
    "                       )\n",
    "            torch.save({'model_state_dict': model.state_dict(),\n",
    "                        'optimizer_state_dict': optimizer.state_dict(),\n",
    "                        'i_fold': i_fold,\n",
    "                        'epoch': epoch,\n",
    "                        'tr_loss': a_tr_loss,\n",
    "                        'val_loss': a_val_loss,\n",
    "                        'tr_acc': a_tr_acc,\n",
    "                        'acc': a_acc,\n",
    "                        'lr': lrs[0],\n",
    "                        'ver': VER\n",
    "                    },\n",
    "                    '{}_model.pt'.format(NAME),\n",
    "            )\n",
    "\n",
    "        scheduler.step()\n"
   ]
  },
  {
   "cell_type": "code",
   "execution_count": 21,
   "metadata": {},
   "outputs": [
    {
     "data": {
      "image/png": "[encoded data removed]",
      "text/plain": [
       "<Figure size 432x288 with 1 Axes>"
      ]
     },
     "metadata": {
      "needs_background": "light"
     },
     "output_type": "display_data"
    },
    {
     "data": {
      "image/png": "[encoded data removed]",
      "text/plain": [
       "<Figure size 432x288 with 1 Axes>"
      ]
     },
     "metadata": {
      "needs_background": "light"
     },
     "output_type": "display_data"
    },
    {
     "data": {
      "text/plain": [
       "<Figure size 432x288 with 0 Axes>"
      ]
     },
     "metadata": {},
     "output_type": "display_data"
    }
   ],
   "source": [
    "show_history()"
   ]
  },
  {
   "cell_type": "code",
   "execution_count": 26,
   "metadata": {},
   "outputs": [
    {
     "name": "stderr",
     "output_type": "stream",
     "text": [
      "100%|██████████| 29/29 [01:21<00:00,  2.80s/it]\n",
      "100%|██████████| 29/29 [01:21<00:00,  2.81s/it]\n",
      "100%|██████████| 29/29 [01:21<00:00,  2.81s/it]\n"
     ]
    }
   ],
   "source": [
    "def preds(criterion=''):\n",
    "    if criterion == '':\n",
    "        t = ''\n",
    "    else:\n",
    "        t = '_'+criterion\n",
    "        \n",
    "    logging.info('Запуск предсказания: {}'.format(criterion))\n",
    "\n",
    "    load_model(criterion)\n",
    "\n",
    "    testset = digitDataset(test_df, transform=test_transform)\n",
    "\n",
    "    test_loader = torch.utils.data.DataLoader(testset, \n",
    "                                              batch_size = BATCH_SIZE, \n",
    "                                              shuffle = False)\n",
    "\n",
    "    test_preds = test(model, test_loader, criterion, optimizer)\n",
    "\n",
    "    logging.info('Запись предсказаной в файл {}{}_submission.csv'.format(NAME, t))\n",
    "    submission_df[['healthy', 'multiple_diseases', 'rust', 'scab']] = torch.softmax(test_preds, dim=1)\n",
    "    submission_df.to_csv('{}{}_submission.csv'.format(NAME, t), index=False)\n",
    "\n",
    "preds('loss')\n",
    "preds('acc')\n",
    "preds()"
   ]
  },
  {
   "cell_type": "code",
   "execution_count": null,
   "metadata": {},
   "outputs": [],
   "source": [
    "logging.info('Завершение скрипта')"
   ]
  },
  {
   "cell_type": "code",
   "execution_count": null,
   "metadata": {
    "scrolled": true
   },
   "outputs": [],
   "source": [
    "show_history()"
   ]
  },
  {
   "cell_type": "code",
   "execution_count": null,
   "metadata": {},
   "outputs": [],
   "source": [
    "len(a_acc)"
   ]
  },
  {
   "cell_type": "code",
   "execution_count": null,
   "metadata": {},
   "outputs": [],
   "source": []
  }
 ],
 "metadata": {
  "kernelspec": {
   "display_name": "Python 3",
   "language": "python",
   "name": "python3"
  },
  "language_info": {
   "codemirror_mode": {
    "name": "ipython",
    "version": 3
   },
   "file_extension": ".py",
   "mimetype": "text/x-python",
   "name": "python",
   "nbconvert_exporter": "python",
   "pygments_lexer": "ipython3",
   "version": "3.8.2"
  },
  "varInspector": {
   "cols": {
    "lenName": 16,
    "lenType": 16,
    "lenVar": 40
   },
   "kernels_config": {
    "python": {
     "delete_cmd_postfix": "",
     "delete_cmd_prefix": "del ",
     "library": "var_list.py",
     "varRefreshCmd": "print(var_dic_list())"
    },
    "r": {
     "delete_cmd_postfix": ") ",
     "delete_cmd_prefix": "rm(",
     "library": "var_list.r",
     "varRefreshCmd": "cat(var_dic_list()) "
    }
   },
   "types_to_exclude": [
    "module",
    "function",
    "builtin_function_or_method",
    "instance",
    "_Feature"
   ],
   "window_display": false
  }
 },
 "nbformat": 4,
 "nbformat_minor": 4
}
